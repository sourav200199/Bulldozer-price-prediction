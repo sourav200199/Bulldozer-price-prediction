{
 "cells": [
  {
   "cell_type": "markdown",
   "id": "b4e33800",
   "metadata": {},
   "source": [
    "# Bulldozer Price Prediction \n",
    "\n",
    "**In this project, we are going to predict the price of bulldozers with the help of a machine learning model.**\n",
    "\n",
    "## 1. Problem definition\n",
    "\n",
    "> How efficiently can we predict the sales price of the bulldozers, given its characteristics and previous examples\n",
    "\n",
    "## 2. Data\n",
    "\n",
    "The data is downloaded from the Kaggle bluebook for bulldozers:\n",
    "The data for this competition is split into three parts:\n",
    "\n",
    "The datasets are:\n",
    "* Train.csv is the training set, which contains data through the end of 2011.\n",
    "* Valid.csv is the validation set, which contains data from January 1, 2012 - April 30, 2012 You make predictions on this set throughout the majority of the competition. Your score on this set is used to create the public leaderboard.\n",
    "* Test.csv is the test set, which won't be released until the last week of the competition. It contains data from May 1, 2012 - November 2012. Your score on the test set determines your final rank for the competition.\n",
    "\n",
    "The key fields are in train.csv are:\n",
    "* SalesID: the uniue identifier of the sale\n",
    "* MachineID: the unique identifier of a machine.  A machine can be sold multiple times\n",
    "* saleprice: what the machine sold for at auction (only provided in train.csv)\n",
    "* saledate: the date of the sale\n",
    "There are several fields towards the end of the file on the different options a machine can have.  The descriptions all start with \"machine configuration\" in the data dictionary.  Some product types do not have a particular option, so all the records for that option variable will be null for that product type.  Also, some sources do not provide good option and/or hours data.\n",
    "The machine_appendix.csv file contains the correct year manufactured for a given machine along with the make, model, and product class details. There is one machine id for every machine in all the competition datasets (training, evaluation, etc.).\n",
    "\n",
    "## 3. Evaluation\n",
    "\n",
    "The evaluation metric for this competition is the RMSLE (root mean squared log error) between the actual and predicted auction prices.\n",
    "\n",
    "Check it on: https://www.kaggle.com/competitions/bluebook-for-bulldozers/overview/evaluation\n",
    "\n",
    "## 4. Features\n",
    "\n",
    "* SalesID: unique identifier of a particular sale of a machine at auction\n",
    "* MachineID: identifier for a particular machine; machines may have multiple sales\n",
    "* ModelID: identifier for a unique machine model (i.e. fiModelDesc)\n",
    "* datasource: source of the sale record\n",
    "* auctioneerID: identifier of a particular auctioneer, i.e. company that sold the machine at auction. \n",
    "* YearMade: year of manufacturer of the Machine\n",
    "* MachineHoursCurrentMeter: current usage of the machine in hours at time of sale (saledate)\n",
    "* UsageBand: value (low, medium, high) calculated comparing this particular Machine-Sale hours to average usage\n",
    "* Saledate: time of sale\n",
    "* Saleprice: cost of sale in USD\n",
    "* fiModelDesc: Description of a unique machine model (see ModelID)\n",
    "* fiBaseModel: disaggregation of fiModelDesc\n",
    "* fiSecondaryDesc: disaggregation of fiModelDesc\n",
    "* fiModelSeries: disaggregation of fiModelDesc\n",
    "* fiModelDescriptor: disaggregation of fiModelDesc\n",
    "* ProductSize: The size class grouping for a product group. \n",
    "* ProductClassDesc: description of 2nd level hierarchical grouping (below ProductGroup) of fiModelDesc\n",
    "* State: US State in which sale occurred\n",
    "* ProductGroup: identifier for top-level hierarchical grouping of fiModelDesc\n",
    "* ProductGroupDesc: description of top-level hierarchical grouping of fiModelDesc\n",
    "* Drive_System: machine configuration; typcially describes whether 2 or 4 wheel drive\n",
    "* Enclosure: machine configuration - does machine have an enclosed cab or not\n",
    "* Forks: machine configuration - attachment used for lifting\n",
    "* Pad_Type: machine configuration - type of treads a crawler machine uses\n",
    "* Ride_Control: machine configuration - optional feature on loaders to make the ride smoother\n",
    "* Stick: machine configuration - type of control\n",
    "* Transmission: machine configuration - describes type of transmission; typically automatic or manual\n",
    "* Turbocharged: machine configuration - engine naturally aspirated or turbocharged\n",
    "* Blade_Extension: machine configuration - extension of standard blade\n",
    "* Blade_Width: machine configuration - width of blade\n",
    "* Enclosure_Type: machine configuration - does machine have an enclosed cab or not\n",
    "* Engine_Horsepower: machine configuration - engine horsepower rating\n",
    "* Hydraulics: machine configuration - type of hydraulics\n",
    "* Pushblock: machine configuration - option\n",
    "* Ripper: machine configuration - implement attached to machine to till soil\n",
    "* Scarifier: machine configuration - implement attached to machine to condition soil\n",
    "* Tip_control: machine configuration - type of blade control\n",
    "* Tire_Size: machine configuration - size of primary tires\n",
    "* Coupler: machine configuration - type of implement interface\n",
    "* Coupler_System: machine configuration - type of implement interface\n",
    "* Grouser_Tracks: machine configuration - describes ground contact interface\n",
    "* Hydraulics_Flow: machine configuration - normal or high flow hydraulic system\n",
    "* Track_Type: machine configuration - type of treads a crawler machine uses\n",
    "* Undercarriage_Pad_Width: machine configuration - width of crawler treads\n",
    "* Stick_Length: machine configuration - length of machine digging implement\n",
    "* Thumb: machine configuration - attachment used for grabbing\n",
    "* Pattern_Changer: machine configuration - can adjust the operator control configuration to suit the user\n",
    "* Grouser_Type: machine configuration - type of treads a crawler machine uses\n",
    "* Backhoe_Mounting: machine configuration - optional interface used to add a backhoe attachment\n",
    "* Blade_Type: machine configuration - describes type of blade\n",
    "* Travel_Controls: machine configuration - describes operator control configuration\n",
    "* Differential_Type: machine configuration - differential type, typically locking or standard\n",
    "* Steering_Controls: machine configuration - describes operator control configuration\n",
    "\n",
    "Link: https://www.kaggle.com/competitions/bluebook-for-bulldozers/data"
   ]
  },
  {
   "cell_type": "markdown",
   "id": "feefdfe9",
   "metadata": {},
   "source": [
    "## Preparing the tools"
   ]
  },
  {
   "cell_type": "code",
   "execution_count": 1,
   "id": "ec97a8dd",
   "metadata": {},
   "outputs": [],
   "source": [
    "import numpy as np\n",
    "import pandas as pd\n",
    "import matplotlib.pyplot as plt\n",
    "import sklearn"
   ]
  },
  {
   "cell_type": "markdown",
   "id": "f9658f64",
   "metadata": {},
   "source": [
    "## Loading the data"
   ]
  },
  {
   "cell_type": "code",
   "execution_count": 2,
   "id": "1078da34",
   "metadata": {},
   "outputs": [],
   "source": [
    "df = pd.read_csv(\"bluebook-for-bulldozers/TrainAndValid.csv\", low_memory = False)"
   ]
  },
  {
   "cell_type": "markdown",
   "id": "3fb37dc4",
   "metadata": {},
   "source": [
    "## Data exploration"
   ]
  },
  {
   "cell_type": "code",
   "execution_count": 3,
   "id": "a0c9391d",
   "metadata": {},
   "outputs": [
    {
     "name": "stdout",
     "output_type": "stream",
     "text": [
      "<class 'pandas.core.frame.DataFrame'>\n",
      "RangeIndex: 412698 entries, 0 to 412697\n",
      "Data columns (total 53 columns):\n",
      " #   Column                    Non-Null Count   Dtype  \n",
      "---  ------                    --------------   -----  \n",
      " 0   SalesID                   412698 non-null  int64  \n",
      " 1   SalePrice                 412698 non-null  float64\n",
      " 2   MachineID                 412698 non-null  int64  \n",
      " 3   ModelID                   412698 non-null  int64  \n",
      " 4   datasource                412698 non-null  int64  \n",
      " 5   auctioneerID              392562 non-null  float64\n",
      " 6   YearMade                  412698 non-null  int64  \n",
      " 7   MachineHoursCurrentMeter  147504 non-null  float64\n",
      " 8   UsageBand                 73670 non-null   object \n",
      " 9   saledate                  412698 non-null  object \n",
      " 10  fiModelDesc               412698 non-null  object \n",
      " 11  fiBaseModel               412698 non-null  object \n",
      " 12  fiSecondaryDesc           271971 non-null  object \n",
      " 13  fiModelSeries             58667 non-null   object \n",
      " 14  fiModelDescriptor         74816 non-null   object \n",
      " 15  ProductSize               196093 non-null  object \n",
      " 16  fiProductClassDesc        412698 non-null  object \n",
      " 17  state                     412698 non-null  object \n",
      " 18  ProductGroup              412698 non-null  object \n",
      " 19  ProductGroupDesc          412698 non-null  object \n",
      " 20  Drive_System              107087 non-null  object \n",
      " 21  Enclosure                 412364 non-null  object \n",
      " 22  Forks                     197715 non-null  object \n",
      " 23  Pad_Type                  81096 non-null   object \n",
      " 24  Ride_Control              152728 non-null  object \n",
      " 25  Stick                     81096 non-null   object \n",
      " 26  Transmission              188007 non-null  object \n",
      " 27  Turbocharged              81096 non-null   object \n",
      " 28  Blade_Extension           25983 non-null   object \n",
      " 29  Blade_Width               25983 non-null   object \n",
      " 30  Enclosure_Type            25983 non-null   object \n",
      " 31  Engine_Horsepower         25983 non-null   object \n",
      " 32  Hydraulics                330133 non-null  object \n",
      " 33  Pushblock                 25983 non-null   object \n",
      " 34  Ripper                    106945 non-null  object \n",
      " 35  Scarifier                 25994 non-null   object \n",
      " 36  Tip_Control               25983 non-null   object \n",
      " 37  Tire_Size                 97638 non-null   object \n",
      " 38  Coupler                   220679 non-null  object \n",
      " 39  Coupler_System            44974 non-null   object \n",
      " 40  Grouser_Tracks            44875 non-null   object \n",
      " 41  Hydraulics_Flow           44875 non-null   object \n",
      " 42  Track_Type                102193 non-null  object \n",
      " 43  Undercarriage_Pad_Width   102916 non-null  object \n",
      " 44  Stick_Length              102261 non-null  object \n",
      " 45  Thumb                     102332 non-null  object \n",
      " 46  Pattern_Changer           102261 non-null  object \n",
      " 47  Grouser_Type              102193 non-null  object \n",
      " 48  Backhoe_Mounting          80712 non-null   object \n",
      " 49  Blade_Type                81875 non-null   object \n",
      " 50  Travel_Controls           81877 non-null   object \n",
      " 51  Differential_Type         71564 non-null   object \n",
      " 52  Steering_Controls         71522 non-null   object \n",
      "dtypes: float64(3), int64(5), object(45)\n",
      "memory usage: 166.9+ MB\n"
     ]
    }
   ],
   "source": [
    "df.info()"
   ]
  },
  {
   "cell_type": "code",
   "execution_count": 4,
   "id": "e01ba523",
   "metadata": {},
   "outputs": [
    {
     "data": {
      "text/plain": [
       "SalesID                          0\n",
       "SalePrice                        0\n",
       "MachineID                        0\n",
       "ModelID                          0\n",
       "datasource                       0\n",
       "auctioneerID                 20136\n",
       "YearMade                         0\n",
       "MachineHoursCurrentMeter    265194\n",
       "UsageBand                   339028\n",
       "saledate                         0\n",
       "fiModelDesc                      0\n",
       "fiBaseModel                      0\n",
       "fiSecondaryDesc             140727\n",
       "fiModelSeries               354031\n",
       "fiModelDescriptor           337882\n",
       "ProductSize                 216605\n",
       "fiProductClassDesc               0\n",
       "state                            0\n",
       "ProductGroup                     0\n",
       "ProductGroupDesc                 0\n",
       "Drive_System                305611\n",
       "Enclosure                      334\n",
       "Forks                       214983\n",
       "Pad_Type                    331602\n",
       "Ride_Control                259970\n",
       "Stick                       331602\n",
       "Transmission                224691\n",
       "Turbocharged                331602\n",
       "Blade_Extension             386715\n",
       "Blade_Width                 386715\n",
       "Enclosure_Type              386715\n",
       "Engine_Horsepower           386715\n",
       "Hydraulics                   82565\n",
       "Pushblock                   386715\n",
       "Ripper                      305753\n",
       "Scarifier                   386704\n",
       "Tip_Control                 386715\n",
       "Tire_Size                   315060\n",
       "Coupler                     192019\n",
       "Coupler_System              367724\n",
       "Grouser_Tracks              367823\n",
       "Hydraulics_Flow             367823\n",
       "Track_Type                  310505\n",
       "Undercarriage_Pad_Width     309782\n",
       "Stick_Length                310437\n",
       "Thumb                       310366\n",
       "Pattern_Changer             310437\n",
       "Grouser_Type                310505\n",
       "Backhoe_Mounting            331986\n",
       "Blade_Type                  330823\n",
       "Travel_Controls             330821\n",
       "Differential_Type           341134\n",
       "Steering_Controls           341176\n",
       "dtype: int64"
      ]
     },
     "execution_count": 4,
     "metadata": {},
     "output_type": "execute_result"
    }
   ],
   "source": [
    "#See how many missing values are there\n",
    "df.isna().sum()"
   ]
  },
  {
   "cell_type": "code",
   "execution_count": 6,
   "id": "f90825b1",
   "metadata": {},
   "outputs": [
    {
     "data": {
      "image/png": "[encoded data removed]",
      "text/plain": [
       "<Figure size 432x288 with 1 Axes>"
      ]
     },
     "metadata": {
      "needs_background": "light"
     },
     "output_type": "display_data"
    }
   ],
   "source": [
    "fig, ax = plt.subplots()\n",
    "ax.scatter(df[\"saledate\"][:1000], df[\"SalePrice\"][:1000]);"
   ]
  },
  {
   "cell_type": "code",
   "execution_count": 8,
   "id": "47d4a039",
   "metadata": {},
   "outputs": [
    {
     "data": {
      "image/png": "[encoded data removed]",
      "text/plain": [
       "<Figure size 432x288 with 1 Axes>"
      ]
     },
     "metadata": {
      "needs_background": "light"
     },
     "output_type": "display_data"
    }
   ],
   "source": [
    "df.SalePrice.plot.hist();"
   ]
  },
  {
   "cell_type": "markdown",
   "id": "be9dcf07",
   "metadata": {},
   "source": [
    "### Parsing dates\n",
    "\n",
    "When we work with time series data, we need to enrich the time and date as much as possible.\n",
    "\n",
    "We can do that using `pandas` by telling that which of our columns has dates in it, using the `parse_dates` parameter."
   ]
  },
  {
   "cell_type": "code",
   "execution_count": 3,
   "id": "6e8b8488",
   "metadata": {},
   "outputs": [],
   "source": [
    "# Import the data again but this time using parse dates\n",
    "df = pd.read_csv(\"bluebook-for-bulldozers/TrainAndValid.csv\",\n",
    "                low_memory=False,\n",
    "                parse_dates=[\"saledate\"])"
   ]
  },
  {
   "cell_type": "code",
   "execution_count": 10,
   "id": "785a9c9b",
   "metadata": {},
   "outputs": [
    {
     "data": {
      "text/plain": [
       "dtype('<M8[ns]')"
      ]
     },
     "execution_count": 10,
     "metadata": {},
     "output_type": "execute_result"
    }
   ],
   "source": [
    "#See the Saledate dtype now -\n",
    "df.saledate.dtype"
   ]
  },
  {
   "cell_type": "code",
   "execution_count": 11,
   "id": "3b72e8a0",
   "metadata": {},
   "outputs": [
    {
     "data": {
      "image/png": "[encoded data removed]",
      "text/plain": [
       "<Figure size 432x288 with 1 Axes>"
      ]
     },
     "metadata": {
      "needs_background": "light"
     },
     "output_type": "display_data"
    }
   ],
   "source": [
    "#Make the same plot as before\n",
    "fig, ax = plt.subplots()\n",
    "ax.scatter(df[\"saledate\"][:1000], df[\"SalePrice\"][:1000]);"
   ]
  },
  {
   "cell_type": "code",
   "execution_count": 12,
   "id": "9941d5d4",
   "metadata": {},
   "outputs": [
    {
     "data": {
      "text/html": [
       "<div>\n",
       "<style scoped>\n",
       "    .dataframe tbody tr th:only-of-type {\n",
       "        vertical-align: middle;\n",
       "    }\n",
       "\n",
       "    .dataframe tbody tr th {\n",
       "        vertical-align: top;\n",
       "    }\n",
       "\n",
       "    .dataframe thead th {\n",
       "        text-align: right;\n",
       "    }\n",
       "</style>\n",
       "<table border=\"1\" class=\"dataframe\">\n",
       "  <thead>\n",
       "    <tr style=\"text-align: right;\">\n",
       "      <th></th>\n",
       "      <th>SalesID</th>\n",
       "      <th>SalePrice</th>\n",
       "      <th>MachineID</th>\n",
       "      <th>ModelID</th>\n",
       "      <th>datasource</th>\n",
       "      <th>auctioneerID</th>\n",
       "      <th>YearMade</th>\n",
       "      <th>MachineHoursCurrentMeter</th>\n",
       "      <th>UsageBand</th>\n",
       "      <th>saledate</th>\n",
       "      <th>...</th>\n",
       "      <th>Undercarriage_Pad_Width</th>\n",
       "      <th>Stick_Length</th>\n",
       "      <th>Thumb</th>\n",
       "      <th>Pattern_Changer</th>\n",
       "      <th>Grouser_Type</th>\n",
       "      <th>Backhoe_Mounting</th>\n",
       "      <th>Blade_Type</th>\n",
       "      <th>Travel_Controls</th>\n",
       "      <th>Differential_Type</th>\n",
       "      <th>Steering_Controls</th>\n",
       "    </tr>\n",
       "  </thead>\n",
       "  <tbody>\n",
       "    <tr>\n",
       "      <th>0</th>\n",
       "      <td>1139246</td>\n",
       "      <td>66000.0</td>\n",
       "      <td>999089</td>\n",
       "      <td>3157</td>\n",
       "      <td>121</td>\n",
       "      <td>3.0</td>\n",
       "      <td>2004</td>\n",
       "      <td>68.0</td>\n",
       "      <td>Low</td>\n",
       "      <td>2006-11-16</td>\n",
       "      <td>...</td>\n",
       "      <td>NaN</td>\n",
       "      <td>NaN</td>\n",
       "      <td>NaN</td>\n",
       "      <td>NaN</td>\n",
       "      <td>NaN</td>\n",
       "      <td>NaN</td>\n",
       "      <td>NaN</td>\n",
       "      <td>NaN</td>\n",
       "      <td>Standard</td>\n",
       "      <td>Conventional</td>\n",
       "    </tr>\n",
       "    <tr>\n",
       "      <th>1</th>\n",
       "      <td>1139248</td>\n",
       "      <td>57000.0</td>\n",
       "      <td>117657</td>\n",
       "      <td>77</td>\n",
       "      <td>121</td>\n",
       "      <td>3.0</td>\n",
       "      <td>1996</td>\n",
       "      <td>4640.0</td>\n",
       "      <td>Low</td>\n",
       "      <td>2004-03-26</td>\n",
       "      <td>...</td>\n",
       "      <td>NaN</td>\n",
       "      <td>NaN</td>\n",
       "      <td>NaN</td>\n",
       "      <td>NaN</td>\n",
       "      <td>NaN</td>\n",
       "      <td>NaN</td>\n",
       "      <td>NaN</td>\n",
       "      <td>NaN</td>\n",
       "      <td>Standard</td>\n",
       "      <td>Conventional</td>\n",
       "    </tr>\n",
       "    <tr>\n",
       "      <th>2</th>\n",
       "      <td>1139249</td>\n",
       "      <td>10000.0</td>\n",
       "      <td>434808</td>\n",
       "      <td>7009</td>\n",
       "      <td>121</td>\n",
       "      <td>3.0</td>\n",
       "      <td>2001</td>\n",
       "      <td>2838.0</td>\n",
       "      <td>High</td>\n",
       "      <td>2004-02-26</td>\n",
       "      <td>...</td>\n",
       "      <td>NaN</td>\n",
       "      <td>NaN</td>\n",
       "      <td>NaN</td>\n",
       "      <td>NaN</td>\n",
       "      <td>NaN</td>\n",
       "      <td>NaN</td>\n",
       "      <td>NaN</td>\n",
       "      <td>NaN</td>\n",
       "      <td>NaN</td>\n",
       "      <td>NaN</td>\n",
       "    </tr>\n",
       "    <tr>\n",
       "      <th>3</th>\n",
       "      <td>1139251</td>\n",
       "      <td>38500.0</td>\n",
       "      <td>1026470</td>\n",
       "      <td>332</td>\n",
       "      <td>121</td>\n",
       "      <td>3.0</td>\n",
       "      <td>2001</td>\n",
       "      <td>3486.0</td>\n",
       "      <td>High</td>\n",
       "      <td>2011-05-19</td>\n",
       "      <td>...</td>\n",
       "      <td>NaN</td>\n",
       "      <td>NaN</td>\n",
       "      <td>NaN</td>\n",
       "      <td>NaN</td>\n",
       "      <td>NaN</td>\n",
       "      <td>NaN</td>\n",
       "      <td>NaN</td>\n",
       "      <td>NaN</td>\n",
       "      <td>NaN</td>\n",
       "      <td>NaN</td>\n",
       "    </tr>\n",
       "    <tr>\n",
       "      <th>4</th>\n",
       "      <td>1139253</td>\n",
       "      <td>11000.0</td>\n",
       "      <td>1057373</td>\n",
       "      <td>17311</td>\n",
       "      <td>121</td>\n",
       "      <td>3.0</td>\n",
       "      <td>2007</td>\n",
       "      <td>722.0</td>\n",
       "      <td>Medium</td>\n",
       "      <td>2009-07-23</td>\n",
       "      <td>...</td>\n",
       "      <td>NaN</td>\n",
       "      <td>NaN</td>\n",
       "      <td>NaN</td>\n",
       "      <td>NaN</td>\n",
       "      <td>NaN</td>\n",
       "      <td>NaN</td>\n",
       "      <td>NaN</td>\n",
       "      <td>NaN</td>\n",
       "      <td>NaN</td>\n",
       "      <td>NaN</td>\n",
       "    </tr>\n",
       "  </tbody>\n",
       "</table>\n",
       "<p>5 rows × 53 columns</p>\n",
       "</div>"
      ],
      "text/plain": [
       "   SalesID  SalePrice  MachineID  ModelID  datasource  auctioneerID  YearMade  \\\n",
       "0  1139246    66000.0     999089     3157         121           3.0      2004   \n",
       "1  1139248    57000.0     117657       77         121           3.0      1996   \n",
       "2  1139249    10000.0     434808     7009         121           3.0      2001   \n",
       "3  1139251    38500.0    1026470      332         121           3.0      2001   \n",
       "4  1139253    11000.0    1057373    17311         121           3.0      2007   \n",
       "\n",
       "   MachineHoursCurrentMeter UsageBand   saledate  ... Undercarriage_Pad_Width  \\\n",
       "0                      68.0       Low 2006-11-16  ...                     NaN   \n",
       "1                    4640.0       Low 2004-03-26  ...                     NaN   \n",
       "2                    2838.0      High 2004-02-26  ...                     NaN   \n",
       "3                    3486.0      High 2011-05-19  ...                     NaN   \n",
       "4                     722.0    Medium 2009-07-23  ...                     NaN   \n",
       "\n",
       "  Stick_Length Thumb Pattern_Changer Grouser_Type Backhoe_Mounting Blade_Type  \\\n",
       "0          NaN   NaN             NaN          NaN              NaN        NaN   \n",
       "1          NaN   NaN             NaN          NaN              NaN        NaN   \n",
       "2          NaN   NaN             NaN          NaN              NaN        NaN   \n",
       "3          NaN   NaN             NaN          NaN              NaN        NaN   \n",
       "4          NaN   NaN             NaN          NaN              NaN        NaN   \n",
       "\n",
       "  Travel_Controls Differential_Type Steering_Controls  \n",
       "0             NaN          Standard      Conventional  \n",
       "1             NaN          Standard      Conventional  \n",
       "2             NaN               NaN               NaN  \n",
       "3             NaN               NaN               NaN  \n",
       "4             NaN               NaN               NaN  \n",
       "\n",
       "[5 rows x 53 columns]"
      ]
     },
     "execution_count": 12,
     "metadata": {},
     "output_type": "execute_result"
    }
   ],
   "source": [
    "df.head()"
   ]
  },
  {
   "cell_type": "code",
   "execution_count": 4,
   "id": "09d21f5f",
   "metadata": {},
   "outputs": [],
   "source": [
    "# Sort DataFrame by date\n",
    "df.sort_values(by=[\"saledate\"], inplace=True, ascending=True)"
   ]
  },
  {
   "cell_type": "code",
   "execution_count": 14,
   "id": "dd983fbf",
   "metadata": {},
   "outputs": [
    {
     "data": {
      "text/html": [
       "<div>\n",
       "<style scoped>\n",
       "    .dataframe tbody tr th:only-of-type {\n",
       "        vertical-align: middle;\n",
       "    }\n",
       "\n",
       "    .dataframe tbody tr th {\n",
       "        vertical-align: top;\n",
       "    }\n",
       "\n",
       "    .dataframe thead th {\n",
       "        text-align: right;\n",
       "    }\n",
       "</style>\n",
       "<table border=\"1\" class=\"dataframe\">\n",
       "  <thead>\n",
       "    <tr style=\"text-align: right;\">\n",
       "      <th></th>\n",
       "      <th>SalesID</th>\n",
       "      <th>SalePrice</th>\n",
       "      <th>MachineID</th>\n",
       "      <th>ModelID</th>\n",
       "      <th>datasource</th>\n",
       "      <th>auctioneerID</th>\n",
       "      <th>YearMade</th>\n",
       "      <th>MachineHoursCurrentMeter</th>\n",
       "      <th>UsageBand</th>\n",
       "      <th>saledate</th>\n",
       "      <th>...</th>\n",
       "      <th>Undercarriage_Pad_Width</th>\n",
       "      <th>Stick_Length</th>\n",
       "      <th>Thumb</th>\n",
       "      <th>Pattern_Changer</th>\n",
       "      <th>Grouser_Type</th>\n",
       "      <th>Backhoe_Mounting</th>\n",
       "      <th>Blade_Type</th>\n",
       "      <th>Travel_Controls</th>\n",
       "      <th>Differential_Type</th>\n",
       "      <th>Steering_Controls</th>\n",
       "    </tr>\n",
       "  </thead>\n",
       "  <tbody>\n",
       "    <tr>\n",
       "      <th>205615</th>\n",
       "      <td>1646770</td>\n",
       "      <td>9500.0</td>\n",
       "      <td>1126363</td>\n",
       "      <td>8434</td>\n",
       "      <td>132</td>\n",
       "      <td>18.0</td>\n",
       "      <td>1974</td>\n",
       "      <td>NaN</td>\n",
       "      <td>NaN</td>\n",
       "      <td>1989-01-17</td>\n",
       "      <td>...</td>\n",
       "      <td>NaN</td>\n",
       "      <td>NaN</td>\n",
       "      <td>NaN</td>\n",
       "      <td>NaN</td>\n",
       "      <td>NaN</td>\n",
       "      <td>None or Unspecified</td>\n",
       "      <td>Straight</td>\n",
       "      <td>None or Unspecified</td>\n",
       "      <td>NaN</td>\n",
       "      <td>NaN</td>\n",
       "    </tr>\n",
       "    <tr>\n",
       "      <th>274835</th>\n",
       "      <td>1821514</td>\n",
       "      <td>14000.0</td>\n",
       "      <td>1194089</td>\n",
       "      <td>10150</td>\n",
       "      <td>132</td>\n",
       "      <td>99.0</td>\n",
       "      <td>1980</td>\n",
       "      <td>NaN</td>\n",
       "      <td>NaN</td>\n",
       "      <td>1989-01-31</td>\n",
       "      <td>...</td>\n",
       "      <td>NaN</td>\n",
       "      <td>NaN</td>\n",
       "      <td>NaN</td>\n",
       "      <td>NaN</td>\n",
       "      <td>NaN</td>\n",
       "      <td>NaN</td>\n",
       "      <td>NaN</td>\n",
       "      <td>NaN</td>\n",
       "      <td>Standard</td>\n",
       "      <td>Conventional</td>\n",
       "    </tr>\n",
       "    <tr>\n",
       "      <th>141296</th>\n",
       "      <td>1505138</td>\n",
       "      <td>50000.0</td>\n",
       "      <td>1473654</td>\n",
       "      <td>4139</td>\n",
       "      <td>132</td>\n",
       "      <td>99.0</td>\n",
       "      <td>1978</td>\n",
       "      <td>NaN</td>\n",
       "      <td>NaN</td>\n",
       "      <td>1989-01-31</td>\n",
       "      <td>...</td>\n",
       "      <td>NaN</td>\n",
       "      <td>NaN</td>\n",
       "      <td>NaN</td>\n",
       "      <td>NaN</td>\n",
       "      <td>NaN</td>\n",
       "      <td>None or Unspecified</td>\n",
       "      <td>Straight</td>\n",
       "      <td>None or Unspecified</td>\n",
       "      <td>NaN</td>\n",
       "      <td>NaN</td>\n",
       "    </tr>\n",
       "    <tr>\n",
       "      <th>212552</th>\n",
       "      <td>1671174</td>\n",
       "      <td>16000.0</td>\n",
       "      <td>1327630</td>\n",
       "      <td>8591</td>\n",
       "      <td>132</td>\n",
       "      <td>99.0</td>\n",
       "      <td>1980</td>\n",
       "      <td>NaN</td>\n",
       "      <td>NaN</td>\n",
       "      <td>1989-01-31</td>\n",
       "      <td>...</td>\n",
       "      <td>NaN</td>\n",
       "      <td>NaN</td>\n",
       "      <td>NaN</td>\n",
       "      <td>NaN</td>\n",
       "      <td>NaN</td>\n",
       "      <td>NaN</td>\n",
       "      <td>NaN</td>\n",
       "      <td>NaN</td>\n",
       "      <td>Standard</td>\n",
       "      <td>Conventional</td>\n",
       "    </tr>\n",
       "    <tr>\n",
       "      <th>62755</th>\n",
       "      <td>1329056</td>\n",
       "      <td>22000.0</td>\n",
       "      <td>1336053</td>\n",
       "      <td>4089</td>\n",
       "      <td>132</td>\n",
       "      <td>99.0</td>\n",
       "      <td>1984</td>\n",
       "      <td>NaN</td>\n",
       "      <td>NaN</td>\n",
       "      <td>1989-01-31</td>\n",
       "      <td>...</td>\n",
       "      <td>NaN</td>\n",
       "      <td>NaN</td>\n",
       "      <td>NaN</td>\n",
       "      <td>NaN</td>\n",
       "      <td>NaN</td>\n",
       "      <td>None or Unspecified</td>\n",
       "      <td>PAT</td>\n",
       "      <td>Lever</td>\n",
       "      <td>NaN</td>\n",
       "      <td>NaN</td>\n",
       "    </tr>\n",
       "  </tbody>\n",
       "</table>\n",
       "<p>5 rows × 53 columns</p>\n",
       "</div>"
      ],
      "text/plain": [
       "        SalesID  SalePrice  MachineID  ModelID  datasource  auctioneerID  \\\n",
       "205615  1646770     9500.0    1126363     8434         132          18.0   \n",
       "274835  1821514    14000.0    1194089    10150         132          99.0   \n",
       "141296  1505138    50000.0    1473654     4139         132          99.0   \n",
       "212552  1671174    16000.0    1327630     8591         132          99.0   \n",
       "62755   1329056    22000.0    1336053     4089         132          99.0   \n",
       "\n",
       "        YearMade  MachineHoursCurrentMeter UsageBand   saledate  ...  \\\n",
       "205615      1974                       NaN       NaN 1989-01-17  ...   \n",
       "274835      1980                       NaN       NaN 1989-01-31  ...   \n",
       "141296      1978                       NaN       NaN 1989-01-31  ...   \n",
       "212552      1980                       NaN       NaN 1989-01-31  ...   \n",
       "62755       1984                       NaN       NaN 1989-01-31  ...   \n",
       "\n",
       "       Undercarriage_Pad_Width Stick_Length Thumb Pattern_Changer  \\\n",
       "205615                     NaN          NaN   NaN             NaN   \n",
       "274835                     NaN          NaN   NaN             NaN   \n",
       "141296                     NaN          NaN   NaN             NaN   \n",
       "212552                     NaN          NaN   NaN             NaN   \n",
       "62755                      NaN          NaN   NaN             NaN   \n",
       "\n",
       "       Grouser_Type     Backhoe_Mounting Blade_Type      Travel_Controls  \\\n",
       "205615          NaN  None or Unspecified   Straight  None or Unspecified   \n",
       "274835          NaN                  NaN        NaN                  NaN   \n",
       "141296          NaN  None or Unspecified   Straight  None or Unspecified   \n",
       "212552          NaN                  NaN        NaN                  NaN   \n",
       "62755           NaN  None or Unspecified        PAT                Lever   \n",
       "\n",
       "       Differential_Type Steering_Controls  \n",
       "205615               NaN               NaN  \n",
       "274835          Standard      Conventional  \n",
       "141296               NaN               NaN  \n",
       "212552          Standard      Conventional  \n",
       "62755                NaN               NaN  \n",
       "\n",
       "[5 rows x 53 columns]"
      ]
     },
     "execution_count": 14,
     "metadata": {},
     "output_type": "execute_result"
    }
   ],
   "source": [
    "df.head()"
   ]
  },
  {
   "cell_type": "code",
   "execution_count": 5,
   "id": "ae35b245",
   "metadata": {},
   "outputs": [],
   "source": [
    "#Maintain a copy of the original dataframe as well\n",
    "df_copy = df.copy()"
   ]
  },
  {
   "cell_type": "markdown",
   "id": "85b822ff",
   "metadata": {},
   "source": [
    "### Add datetime attributes for the `saledate` column"
   ]
  },
  {
   "cell_type": "code",
   "execution_count": 6,
   "id": "0a079325",
   "metadata": {},
   "outputs": [],
   "source": [
    "df_copy[\"saleYear\"] = df_copy.saledate.dt.year\n",
    "df_copy[\"saleMonth\"] = df_copy.saledate.dt.month\n",
    "df_copy[\"saleDay\"] = df_copy.saledate.dt.day\n",
    "df_copy[\"saleDayOfWeek\"] = df_copy.saledate.dt.dayofweek\n",
    "df_copy[\"saleDayOfYear\"] = df_copy.saledate.dt.dayofyear"
   ]
  },
  {
   "cell_type": "code",
   "execution_count": 17,
   "id": "fb32dd42",
   "metadata": {},
   "outputs": [
    {
     "data": {
      "text/html": [
       "<div>\n",
       "<style scoped>\n",
       "    .dataframe tbody tr th:only-of-type {\n",
       "        vertical-align: middle;\n",
       "    }\n",
       "\n",
       "    .dataframe tbody tr th {\n",
       "        vertical-align: top;\n",
       "    }\n",
       "\n",
       "    .dataframe thead th {\n",
       "        text-align: right;\n",
       "    }\n",
       "</style>\n",
       "<table border=\"1\" class=\"dataframe\">\n",
       "  <thead>\n",
       "    <tr style=\"text-align: right;\">\n",
       "      <th></th>\n",
       "      <th>SalesID</th>\n",
       "      <th>SalePrice</th>\n",
       "      <th>MachineID</th>\n",
       "      <th>ModelID</th>\n",
       "      <th>datasource</th>\n",
       "      <th>auctioneerID</th>\n",
       "      <th>YearMade</th>\n",
       "      <th>MachineHoursCurrentMeter</th>\n",
       "      <th>UsageBand</th>\n",
       "      <th>saledate</th>\n",
       "      <th>...</th>\n",
       "      <th>Backhoe_Mounting</th>\n",
       "      <th>Blade_Type</th>\n",
       "      <th>Travel_Controls</th>\n",
       "      <th>Differential_Type</th>\n",
       "      <th>Steering_Controls</th>\n",
       "      <th>saleYear</th>\n",
       "      <th>saleMonth</th>\n",
       "      <th>saleDay</th>\n",
       "      <th>saleDayOfWeek</th>\n",
       "      <th>saleDayOfYear</th>\n",
       "    </tr>\n",
       "  </thead>\n",
       "  <tbody>\n",
       "    <tr>\n",
       "      <th>205615</th>\n",
       "      <td>1646770</td>\n",
       "      <td>9500.0</td>\n",
       "      <td>1126363</td>\n",
       "      <td>8434</td>\n",
       "      <td>132</td>\n",
       "      <td>18.0</td>\n",
       "      <td>1974</td>\n",
       "      <td>NaN</td>\n",
       "      <td>NaN</td>\n",
       "      <td>1989-01-17</td>\n",
       "      <td>...</td>\n",
       "      <td>None or Unspecified</td>\n",
       "      <td>Straight</td>\n",
       "      <td>None or Unspecified</td>\n",
       "      <td>NaN</td>\n",
       "      <td>NaN</td>\n",
       "      <td>1989</td>\n",
       "      <td>1</td>\n",
       "      <td>17</td>\n",
       "      <td>1</td>\n",
       "      <td>17</td>\n",
       "    </tr>\n",
       "    <tr>\n",
       "      <th>274835</th>\n",
       "      <td>1821514</td>\n",
       "      <td>14000.0</td>\n",
       "      <td>1194089</td>\n",
       "      <td>10150</td>\n",
       "      <td>132</td>\n",
       "      <td>99.0</td>\n",
       "      <td>1980</td>\n",
       "      <td>NaN</td>\n",
       "      <td>NaN</td>\n",
       "      <td>1989-01-31</td>\n",
       "      <td>...</td>\n",
       "      <td>NaN</td>\n",
       "      <td>NaN</td>\n",
       "      <td>NaN</td>\n",
       "      <td>Standard</td>\n",
       "      <td>Conventional</td>\n",
       "      <td>1989</td>\n",
       "      <td>1</td>\n",
       "      <td>31</td>\n",
       "      <td>1</td>\n",
       "      <td>31</td>\n",
       "    </tr>\n",
       "    <tr>\n",
       "      <th>141296</th>\n",
       "      <td>1505138</td>\n",
       "      <td>50000.0</td>\n",
       "      <td>1473654</td>\n",
       "      <td>4139</td>\n",
       "      <td>132</td>\n",
       "      <td>99.0</td>\n",
       "      <td>1978</td>\n",
       "      <td>NaN</td>\n",
       "      <td>NaN</td>\n",
       "      <td>1989-01-31</td>\n",
       "      <td>...</td>\n",
       "      <td>None or Unspecified</td>\n",
       "      <td>Straight</td>\n",
       "      <td>None or Unspecified</td>\n",
       "      <td>NaN</td>\n",
       "      <td>NaN</td>\n",
       "      <td>1989</td>\n",
       "      <td>1</td>\n",
       "      <td>31</td>\n",
       "      <td>1</td>\n",
       "      <td>31</td>\n",
       "    </tr>\n",
       "    <tr>\n",
       "      <th>212552</th>\n",
       "      <td>1671174</td>\n",
       "      <td>16000.0</td>\n",
       "      <td>1327630</td>\n",
       "      <td>8591</td>\n",
       "      <td>132</td>\n",
       "      <td>99.0</td>\n",
       "      <td>1980</td>\n",
       "      <td>NaN</td>\n",
       "      <td>NaN</td>\n",
       "      <td>1989-01-31</td>\n",
       "      <td>...</td>\n",
       "      <td>NaN</td>\n",
       "      <td>NaN</td>\n",
       "      <td>NaN</td>\n",
       "      <td>Standard</td>\n",
       "      <td>Conventional</td>\n",
       "      <td>1989</td>\n",
       "      <td>1</td>\n",
       "      <td>31</td>\n",
       "      <td>1</td>\n",
       "      <td>31</td>\n",
       "    </tr>\n",
       "    <tr>\n",
       "      <th>62755</th>\n",
       "      <td>1329056</td>\n",
       "      <td>22000.0</td>\n",
       "      <td>1336053</td>\n",
       "      <td>4089</td>\n",
       "      <td>132</td>\n",
       "      <td>99.0</td>\n",
       "      <td>1984</td>\n",
       "      <td>NaN</td>\n",
       "      <td>NaN</td>\n",
       "      <td>1989-01-31</td>\n",
       "      <td>...</td>\n",
       "      <td>None or Unspecified</td>\n",
       "      <td>PAT</td>\n",
       "      <td>Lever</td>\n",
       "      <td>NaN</td>\n",
       "      <td>NaN</td>\n",
       "      <td>1989</td>\n",
       "      <td>1</td>\n",
       "      <td>31</td>\n",
       "      <td>1</td>\n",
       "      <td>31</td>\n",
       "    </tr>\n",
       "  </tbody>\n",
       "</table>\n",
       "<p>5 rows × 58 columns</p>\n",
       "</div>"
      ],
      "text/plain": [
       "        SalesID  SalePrice  MachineID  ModelID  datasource  auctioneerID  \\\n",
       "205615  1646770     9500.0    1126363     8434         132          18.0   \n",
       "274835  1821514    14000.0    1194089    10150         132          99.0   \n",
       "141296  1505138    50000.0    1473654     4139         132          99.0   \n",
       "212552  1671174    16000.0    1327630     8591         132          99.0   \n",
       "62755   1329056    22000.0    1336053     4089         132          99.0   \n",
       "\n",
       "        YearMade  MachineHoursCurrentMeter UsageBand   saledate  ...  \\\n",
       "205615      1974                       NaN       NaN 1989-01-17  ...   \n",
       "274835      1980                       NaN       NaN 1989-01-31  ...   \n",
       "141296      1978                       NaN       NaN 1989-01-31  ...   \n",
       "212552      1980                       NaN       NaN 1989-01-31  ...   \n",
       "62755       1984                       NaN       NaN 1989-01-31  ...   \n",
       "\n",
       "           Backhoe_Mounting Blade_Type      Travel_Controls Differential_Type  \\\n",
       "205615  None or Unspecified   Straight  None or Unspecified               NaN   \n",
       "274835                  NaN        NaN                  NaN          Standard   \n",
       "141296  None or Unspecified   Straight  None or Unspecified               NaN   \n",
       "212552                  NaN        NaN                  NaN          Standard   \n",
       "62755   None or Unspecified        PAT                Lever               NaN   \n",
       "\n",
       "       Steering_Controls saleYear saleMonth saleDay saleDayOfWeek  \\\n",
       "205615               NaN     1989         1      17             1   \n",
       "274835      Conventional     1989         1      31             1   \n",
       "141296               NaN     1989         1      31             1   \n",
       "212552      Conventional     1989         1      31             1   \n",
       "62755                NaN     1989         1      31             1   \n",
       "\n",
       "       saleDayOfYear  \n",
       "205615            17  \n",
       "274835            31  \n",
       "141296            31  \n",
       "212552            31  \n",
       "62755             31  \n",
       "\n",
       "[5 rows x 58 columns]"
      ]
     },
     "execution_count": 17,
     "metadata": {},
     "output_type": "execute_result"
    }
   ],
   "source": [
    "df_copy.head()"
   ]
  },
  {
   "cell_type": "code",
   "execution_count": 7,
   "id": "198b758c",
   "metadata": {},
   "outputs": [],
   "source": [
    "#Now that we have segregated the date time, we can remove the saledate column\n",
    "df_copy.drop(\"saledate\", axis=1, inplace=True)"
   ]
  },
  {
   "cell_type": "code",
   "execution_count": 20,
   "id": "c7790e38",
   "metadata": {},
   "outputs": [
    {
     "data": {
      "text/plain": [
       "Florida           67320\n",
       "Texas             53110\n",
       "California        29761\n",
       "Washington        16222\n",
       "Georgia           14633\n",
       "Maryland          13322\n",
       "Mississippi       13240\n",
       "Ohio              12369\n",
       "Illinois          11540\n",
       "Colorado          11529\n",
       "New Jersey        11156\n",
       "North Carolina    10636\n",
       "Tennessee         10298\n",
       "Alabama           10292\n",
       "Pennsylvania      10234\n",
       "South Carolina     9951\n",
       "Arizona            9364\n",
       "New York           8639\n",
       "Connecticut        8276\n",
       "Minnesota          7885\n",
       "Missouri           7178\n",
       "Nevada             6932\n",
       "Louisiana          6627\n",
       "Kentucky           5351\n",
       "Maine              5096\n",
       "Indiana            4124\n",
       "Arkansas           3933\n",
       "New Mexico         3631\n",
       "Utah               3046\n",
       "Unspecified        2801\n",
       "Wisconsin          2745\n",
       "New Hampshire      2738\n",
       "Virginia           2353\n",
       "Idaho              2025\n",
       "Oregon             1911\n",
       "Michigan           1831\n",
       "Wyoming            1672\n",
       "Montana            1336\n",
       "Iowa               1336\n",
       "Oklahoma           1326\n",
       "Nebraska            866\n",
       "West Virginia       840\n",
       "Kansas              667\n",
       "Delaware            510\n",
       "North Dakota        480\n",
       "Alaska              430\n",
       "Massachusetts       347\n",
       "Vermont             300\n",
       "South Dakota        244\n",
       "Hawaii              118\n",
       "Rhode Island         83\n",
       "Puerto Rico          42\n",
       "Washington DC         2\n",
       "Name: state, dtype: int64"
      ]
     },
     "execution_count": 20,
     "metadata": {},
     "output_type": "execute_result"
    }
   ],
   "source": [
    "df_copy.state.value_counts()"
   ]
  },
  {
   "cell_type": "markdown",
   "id": "c776819e",
   "metadata": {},
   "source": [
    "## 5. Modelling"
   ]
  },
  {
   "cell_type": "code",
   "execution_count": 8,
   "id": "84eabe99",
   "metadata": {},
   "outputs": [],
   "source": [
    "#Import the ML Model\n",
    "from sklearn.ensemble import RandomForestRegressor\n",
    "\n",
    "#Build a model\n",
    "model = RandomForestRegressor(n_jobs=-1,\n",
    "                             random_state=43) #Same as np.random.seed(43)"
   ]
  },
  {
   "cell_type": "markdown",
   "id": "2848d46d",
   "metadata": {},
   "source": [
    "### Convert strings to numbers"
   ]
  },
  {
   "cell_type": "code",
   "execution_count": 10,
   "id": "c81d6791",
   "metadata": {},
   "outputs": [
    {
     "name": "stdout",
     "output_type": "stream",
     "text": [
      "UsageBand\n",
      "fiModelDesc\n",
      "fiBaseModel\n",
      "fiSecondaryDesc\n",
      "fiModelSeries\n",
      "fiModelDescriptor\n",
      "ProductSize\n",
      "fiProductClassDesc\n",
      "state\n",
      "ProductGroup\n",
      "ProductGroupDesc\n",
      "Drive_System\n",
      "Enclosure\n",
      "Forks\n",
      "Pad_Type\n",
      "Ride_Control\n",
      "Stick\n",
      "Transmission\n",
      "Turbocharged\n",
      "Blade_Extension\n",
      "Blade_Width\n",
      "Enclosure_Type\n",
      "Engine_Horsepower\n",
      "Hydraulics\n",
      "Pushblock\n",
      "Ripper\n",
      "Scarifier\n",
      "Tip_Control\n",
      "Tire_Size\n",
      "Coupler\n",
      "Coupler_System\n",
      "Grouser_Tracks\n",
      "Hydraulics_Flow\n",
      "Track_Type\n",
      "Undercarriage_Pad_Width\n",
      "Stick_Length\n",
      "Thumb\n",
      "Pattern_Changer\n",
      "Grouser_Type\n",
      "Backhoe_Mounting\n",
      "Blade_Type\n",
      "Travel_Controls\n",
      "Differential_Type\n",
      "Steering_Controls\n"
     ]
    }
   ],
   "source": [
    "#As we can see that all the column datatypes are not present in numbers. \n",
    "#So, we first need to convert it to nos. so that we can fit it in a model.\n",
    "\n",
    "#Find all the columns that contain strings\n",
    "for label, content in df_copy.items():\n",
    "    if pd.api.types.is_string_dtype(content): #(See doc.) - check if it is string\n",
    "        print(label)"
   ]
  },
  {
   "cell_type": "code",
   "execution_count": 11,
   "id": "68719635",
   "metadata": {},
   "outputs": [],
   "source": [
    "#Turn all the string values into categories\n",
    "for label, content in df_copy.items():\n",
    "    if pd.api.types.is_string_dtype(content):\n",
    "        df_copy[label] = content.astype(\"category\").cat.as_ordered()\n",
    "        #Change the content of those string columns as categories"
   ]
  },
  {
   "cell_type": "code",
   "execution_count": 12,
   "id": "67419daf",
   "metadata": {},
   "outputs": [
    {
     "name": "stdout",
     "output_type": "stream",
     "text": [
      "<class 'pandas.core.frame.DataFrame'>\n",
      "Int64Index: 412698 entries, 205615 to 409203\n",
      "Data columns (total 57 columns):\n",
      " #   Column                    Non-Null Count   Dtype   \n",
      "---  ------                    --------------   -----   \n",
      " 0   SalesID                   412698 non-null  int64   \n",
      " 1   SalePrice                 412698 non-null  float64 \n",
      " 2   MachineID                 412698 non-null  int64   \n",
      " 3   ModelID                   412698 non-null  int64   \n",
      " 4   datasource                412698 non-null  int64   \n",
      " 5   auctioneerID              392562 non-null  float64 \n",
      " 6   YearMade                  412698 non-null  int64   \n",
      " 7   MachineHoursCurrentMeter  147504 non-null  float64 \n",
      " 8   UsageBand                 73670 non-null   category\n",
      " 9   fiModelDesc               412698 non-null  category\n",
      " 10  fiBaseModel               412698 non-null  category\n",
      " 11  fiSecondaryDesc           271971 non-null  category\n",
      " 12  fiModelSeries             58667 non-null   category\n",
      " 13  fiModelDescriptor         74816 non-null   category\n",
      " 14  ProductSize               196093 non-null  category\n",
      " 15  fiProductClassDesc        412698 non-null  category\n",
      " 16  state                     412698 non-null  category\n",
      " 17  ProductGroup              412698 non-null  category\n",
      " 18  ProductGroupDesc          412698 non-null  category\n",
      " 19  Drive_System              107087 non-null  category\n",
      " 20  Enclosure                 412364 non-null  category\n",
      " 21  Forks                     197715 non-null  category\n",
      " 22  Pad_Type                  81096 non-null   category\n",
      " 23  Ride_Control              152728 non-null  category\n",
      " 24  Stick                     81096 non-null   category\n",
      " 25  Transmission              188007 non-null  category\n",
      " 26  Turbocharged              81096 non-null   category\n",
      " 27  Blade_Extension           25983 non-null   category\n",
      " 28  Blade_Width               25983 non-null   category\n",
      " 29  Enclosure_Type            25983 non-null   category\n",
      " 30  Engine_Horsepower         25983 non-null   category\n",
      " 31  Hydraulics                330133 non-null  category\n",
      " 32  Pushblock                 25983 non-null   category\n",
      " 33  Ripper                    106945 non-null  category\n",
      " 34  Scarifier                 25994 non-null   category\n",
      " 35  Tip_Control               25983 non-null   category\n",
      " 36  Tire_Size                 97638 non-null   category\n",
      " 37  Coupler                   220679 non-null  category\n",
      " 38  Coupler_System            44974 non-null   category\n",
      " 39  Grouser_Tracks            44875 non-null   category\n",
      " 40  Hydraulics_Flow           44875 non-null   category\n",
      " 41  Track_Type                102193 non-null  category\n",
      " 42  Undercarriage_Pad_Width   102916 non-null  category\n",
      " 43  Stick_Length              102261 non-null  category\n",
      " 44  Thumb                     102332 non-null  category\n",
      " 45  Pattern_Changer           102261 non-null  category\n",
      " 46  Grouser_Type              102193 non-null  category\n",
      " 47  Backhoe_Mounting          80712 non-null   category\n",
      " 48  Blade_Type                81875 non-null   category\n",
      " 49  Travel_Controls           81877 non-null   category\n",
      " 50  Differential_Type         71564 non-null   category\n",
      " 51  Steering_Controls         71522 non-null   category\n",
      " 52  saleYear                  412698 non-null  int64   \n",
      " 53  saleMonth                 412698 non-null  int64   \n",
      " 54  saleDay                   412698 non-null  int64   \n",
      " 55  saleDayOfWeek             412698 non-null  int64   \n",
      " 56  saleDayOfYear             412698 non-null  int64   \n",
      "dtypes: category(44), float64(3), int64(10)\n",
      "memory usage: 63.2 MB\n"
     ]
    }
   ],
   "source": [
    "df_copy.info()"
   ]
  },
  {
   "cell_type": "code",
   "execution_count": 13,
   "id": "21585222",
   "metadata": {},
   "outputs": [
    {
     "data": {
      "text/plain": [
       "205615    43\n",
       "274835     8\n",
       "141296     8\n",
       "212552     8\n",
       "62755      8\n",
       "          ..\n",
       "410879     4\n",
       "412476     4\n",
       "411927     4\n",
       "407124     4\n",
       "409203     4\n",
       "Length: 412698, dtype: int8"
      ]
     },
     "execution_count": 13,
     "metadata": {},
     "output_type": "execute_result"
    }
   ],
   "source": [
    "df_copy.state.cat.codes\n",
    "#Example - See how the 'state' column values has been assigned a no.\n",
    "#after being converted to categories"
   ]
  },
  {
   "cell_type": "markdown",
   "id": "df88a677",
   "metadata": {},
   "source": [
    "### Take care of the missing values"
   ]
  },
  {
   "cell_type": "code",
   "execution_count": 14,
   "id": "0edc0642",
   "metadata": {},
   "outputs": [
    {
     "data": {
      "text/plain": [
       "SalesID                      0.000000\n",
       "SalePrice                    0.000000\n",
       "MachineID                    0.000000\n",
       "ModelID                      0.000000\n",
       "datasource                   0.000000\n",
       "auctioneerID                 4.879113\n",
       "YearMade                     0.000000\n",
       "MachineHoursCurrentMeter    64.258610\n",
       "UsageBand                   82.149174\n",
       "fiModelDesc                  0.000000\n",
       "fiBaseModel                  0.000000\n",
       "fiSecondaryDesc             34.099269\n",
       "fiModelSeries               85.784520\n",
       "fiModelDescriptor           81.871490\n",
       "ProductSize                 52.485110\n",
       "fiProductClassDesc           0.000000\n",
       "state                        0.000000\n",
       "ProductGroup                 0.000000\n",
       "ProductGroupDesc             0.000000\n",
       "Drive_System                74.051970\n",
       "Enclosure                    0.080931\n",
       "Forks                       52.092087\n",
       "Pad_Type                    80.349796\n",
       "Ride_Control                62.992794\n",
       "Stick                       80.349796\n",
       "Transmission                54.444412\n",
       "Turbocharged                80.349796\n",
       "Blade_Extension             93.704113\n",
       "Blade_Width                 93.704113\n",
       "Enclosure_Type              93.704113\n",
       "Engine_Horsepower           93.704113\n",
       "Hydraulics                  20.006155\n",
       "Pushblock                   93.704113\n",
       "Ripper                      74.086378\n",
       "Scarifier                   93.701448\n",
       "Tip_Control                 93.704113\n",
       "Tire_Size                   76.341538\n",
       "Coupler                     46.527727\n",
       "Coupler_System              89.102443\n",
       "Grouser_Tracks              89.126431\n",
       "Hydraulics_Flow             89.126431\n",
       "Track_Type                  75.237825\n",
       "Undercarriage_Pad_Width     75.062637\n",
       "Stick_Length                75.221348\n",
       "Thumb                       75.204144\n",
       "Pattern_Changer             75.221348\n",
       "Grouser_Type                75.237825\n",
       "Backhoe_Mounting            80.442842\n",
       "Blade_Type                  80.161038\n",
       "Travel_Controls             80.160553\n",
       "Differential_Type           82.659475\n",
       "Steering_Controls           82.669652\n",
       "saleYear                     0.000000\n",
       "saleMonth                    0.000000\n",
       "saleDay                      0.000000\n",
       "saleDayOfWeek                0.000000\n",
       "saleDayOfYear                0.000000\n",
       "dtype: float64"
      ]
     },
     "execution_count": 14,
     "metadata": {},
     "output_type": "execute_result"
    }
   ],
   "source": [
    "(df_copy.isna().sum()/len(df_copy)) * 100 #See the percentage of missing values"
   ]
  },
  {
   "cell_type": "markdown",
   "id": "950ca09b",
   "metadata": {},
   "source": [
    "### Fill the missing values"
   ]
  },
  {
   "cell_type": "markdown",
   "id": "de21882f",
   "metadata": {},
   "source": [
    "#### i. Filling numerical missing values "
   ]
  },
  {
   "cell_type": "code",
   "execution_count": 15,
   "id": "4be25e02",
   "metadata": {},
   "outputs": [
    {
     "name": "stdout",
     "output_type": "stream",
     "text": [
      "SalesID\n",
      "SalePrice\n",
      "MachineID\n",
      "ModelID\n",
      "datasource\n",
      "auctioneerID\n",
      "YearMade\n",
      "MachineHoursCurrentMeter\n",
      "saleYear\n",
      "saleMonth\n",
      "saleDay\n",
      "saleDayOfWeek\n",
      "saleDayOfYear\n"
     ]
    }
   ],
   "source": [
    "#Find all the columns that contain numerical data\n",
    "for label, content in df_copy.items():\n",
    "    if pd.api.types.is_numeric_dtype(content): #(See doc.) - check if it is string\n",
    "        print(label)"
   ]
  },
  {
   "cell_type": "code",
   "execution_count": 16,
   "id": "8a4b1572",
   "metadata": {},
   "outputs": [
    {
     "name": "stdout",
     "output_type": "stream",
     "text": [
      "auctioneerID\n",
      "MachineHoursCurrentMeter\n"
     ]
    }
   ],
   "source": [
    "#Check which numeric columns have null values\n",
    "for label, content in df_copy.items():\n",
    "    if pd.api.types.is_numeric_dtype(content): #(See doc.) - check if it is string\n",
    "        if pd.isnull(content).sum():\n",
    "            print(label)"
   ]
  },
  {
   "cell_type": "code",
   "execution_count": 9,
   "id": "54072323",
   "metadata": {},
   "outputs": [],
   "source": [
    "#Fill the null numeric values with the median value\n",
    "for label, content in df_copy.items():\n",
    "    if pd.api.types.is_numeric_dtype(content): #(See doc.) - check if it is string\n",
    "        if pd.isnull(content).sum():\n",
    "            #Add a binary column which tells us if the data was missing\n",
    "            df_copy[label+\"_is_missing\"] = pd.isnull(content)\n",
    "            #Fill missing numeric values with median\n",
    "            df_copy[label] = content.fillna(content.median())"
   ]
  },
  {
   "cell_type": "code",
   "execution_count": 10,
   "id": "724ccf3e",
   "metadata": {},
   "outputs": [],
   "source": [
    "#Check again with the previous code if there are still any missing values\n",
    "for label, content in df_copy.items():\n",
    "    if pd.api.types.is_numeric_dtype(content): #(See doc.) - check if it is string\n",
    "        if pd.isnull(content).sum():\n",
    "            print(label)"
   ]
  },
  {
   "cell_type": "code",
   "execution_count": 11,
   "id": "2bf23e3c",
   "metadata": {},
   "outputs": [],
   "source": [
    "#As we can see that there is no output, there are no NULL values present"
   ]
  },
  {
   "cell_type": "markdown",
   "id": "09799655",
   "metadata": {},
   "source": [
    "#### ii. Filling categorical missing values"
   ]
  },
  {
   "cell_type": "code",
   "execution_count": 12,
   "id": "d4b4f7ef",
   "metadata": {},
   "outputs": [
    {
     "name": "stdout",
     "output_type": "stream",
     "text": [
      "UsageBand\n",
      "fiSecondaryDesc\n",
      "fiModelSeries\n",
      "fiModelDescriptor\n",
      "ProductSize\n",
      "Drive_System\n",
      "Enclosure\n",
      "Forks\n",
      "Pad_Type\n",
      "Ride_Control\n",
      "Stick\n",
      "Transmission\n",
      "Turbocharged\n",
      "Blade_Extension\n",
      "Blade_Width\n",
      "Enclosure_Type\n",
      "Engine_Horsepower\n",
      "Hydraulics\n",
      "Pushblock\n",
      "Ripper\n",
      "Scarifier\n",
      "Tip_Control\n",
      "Tire_Size\n",
      "Coupler\n",
      "Coupler_System\n",
      "Grouser_Tracks\n",
      "Hydraulics_Flow\n",
      "Track_Type\n",
      "Undercarriage_Pad_Width\n",
      "Stick_Length\n",
      "Thumb\n",
      "Pattern_Changer\n",
      "Grouser_Type\n",
      "Backhoe_Mounting\n",
      "Blade_Type\n",
      "Travel_Controls\n",
      "Differential_Type\n",
      "Steering_Controls\n"
     ]
    }
   ],
   "source": [
    "#Check which non-numeric columns have null values\n",
    "for label, content in df_copy.items():\n",
    "    if not pd.api.types.is_numeric_dtype(content): #(See doc.) - check if it is string\n",
    "        if pd.isnull(content).sum():\n",
    "            print(label)"
   ]
  },
  {
   "cell_type": "code",
   "execution_count": 14,
   "id": "c67688c3",
   "metadata": {},
   "outputs": [
    {
     "data": {
      "text/plain": [
       "['Texas', 'Florida', 'Florida', 'Florida', 'Florida', ..., 'California', 'California', 'California', 'California', 'California']\n",
       "Length: 412698\n",
       "Categories (53, object): ['Alabama', 'Alaska', 'Arizona', 'Arkansas', ..., 'Washington DC', 'West Virginia', 'Wisconsin', 'Wyoming']"
      ]
     },
     "execution_count": 14,
     "metadata": {},
     "output_type": "execute_result"
    }
   ],
   "source": [
    "#Example - see categories for 'state'\n",
    "pd.Categorical(df_copy[\"state\"])"
   ]
  },
  {
   "cell_type": "code",
   "execution_count": 15,
   "id": "fd5db4a0",
   "metadata": {},
   "outputs": [],
   "source": [
    "#Turn categorical var. into nos. and fill the missing\n",
    "for label, content in df_copy.items():\n",
    "    if not pd.api.types.is_numeric_dtype(content):\n",
    "        #Add a binary column which tells us if the data was missing\n",
    "            df_copy[label+\"_is_missing\"] = pd.isnull(content)\n",
    "            #Turn categories into nos. and add +1\n",
    "            df_copy[label] = pd.Categorical(content).codes + 1\n",
    "            #We are adding '+1' because the ones which have missing values\n",
    "            #has a 'codes' value of '-1', but we want only +ve nos."
   ]
  },
  {
   "cell_type": "code",
   "execution_count": 16,
   "id": "1839b61d",
   "metadata": {},
   "outputs": [
    {
     "name": "stdout",
     "output_type": "stream",
     "text": [
      "<class 'pandas.core.frame.DataFrame'>\n",
      "Int64Index: 412698 entries, 205615 to 409203\n",
      "Columns: 103 entries, SalesID to Steering_Controls_is_missing\n",
      "dtypes: bool(46), float64(3), int16(4), int64(10), int8(40)\n",
      "memory usage: 81.1 MB\n"
     ]
    }
   ],
   "source": [
    "#Check where the dataset stands now\n",
    "df_copy.info()"
   ]
  },
  {
   "cell_type": "code",
   "execution_count": 17,
   "id": "a3f44228",
   "metadata": {},
   "outputs": [
    {
     "data": {
      "text/plain": [
       "SalesID                         0\n",
       "SalePrice                       0\n",
       "MachineID                       0\n",
       "ModelID                         0\n",
       "datasource                      0\n",
       "                               ..\n",
       "Backhoe_Mounting_is_missing     0\n",
       "Blade_Type_is_missing           0\n",
       "Travel_Controls_is_missing      0\n",
       "Differential_Type_is_missing    0\n",
       "Steering_Controls_is_missing    0\n",
       "Length: 103, dtype: int64"
      ]
     },
     "execution_count": 17,
     "metadata": {},
     "output_type": "execute_result"
    }
   ],
   "source": [
    "#One last check to see if there are remaining missing values\n",
    "df_copy.isna().sum()"
   ]
  },
  {
   "cell_type": "markdown",
   "id": "d6c58313",
   "metadata": {},
   "source": [
    "**Now that we don't have any missing values and all are turned into nos., \n",
    "we must be able to fit it in the model**"
   ]
  },
  {
   "cell_type": "code",
   "execution_count": 19,
   "id": "f340b96b",
   "metadata": {},
   "outputs": [
    {
     "name": "stdout",
     "output_type": "stream",
     "text": [
      "CPU times: total: 32min 34s\n",
      "Wall time: 2min 55s\n"
     ]
    },
    {
     "data": {
      "text/plain": [
       "RandomForestRegressor(n_jobs=-1, random_state=42)"
      ]
     },
     "execution_count": 19,
     "metadata": {},
     "output_type": "execute_result"
    }
   ],
   "source": [
    "%%time\n",
    "\n",
    "# Instantiate model\n",
    "model = RandomForestRegressor(n_jobs=-1, random_state = 42)\n",
    "\n",
    "#Instantiate the X and y labels\n",
    "X = df_copy.drop(\"SalePrice\", axis = 1)\n",
    "y = df_copy[\"SalePrice\"]\n",
    "\n",
    "#Fit the model\n",
    "model.fit(X, y)"
   ]
  },
  {
   "cell_type": "markdown",
   "id": "afda3a00",
   "metadata": {},
   "source": [
    "### Splitting data into training/validation sets"
   ]
  },
  {
   "cell_type": "code",
   "execution_count": 20,
   "id": "87388e26",
   "metadata": {},
   "outputs": [
    {
     "data": {
      "text/plain": [
       "2009    43849\n",
       "2008    39767\n",
       "2011    35197\n",
       "2010    33390\n",
       "2007    32208\n",
       "2006    21685\n",
       "2005    20463\n",
       "2004    19879\n",
       "2001    17594\n",
       "2000    17415\n",
       "2002    17246\n",
       "2003    15254\n",
       "1998    13046\n",
       "1999    12793\n",
       "2012    11573\n",
       "1997     9785\n",
       "1996     8829\n",
       "1995     8530\n",
       "1994     7929\n",
       "1993     6303\n",
       "1992     5519\n",
       "1991     5109\n",
       "1989     4806\n",
       "1990     4529\n",
       "Name: saleYear, dtype: int64"
      ]
     },
     "execution_count": 20,
     "metadata": {},
     "output_type": "execute_result"
    }
   ],
   "source": [
    "df_copy.saleYear.value_counts()"
   ]
  },
  {
   "cell_type": "code",
   "execution_count": 21,
   "id": "728ea778",
   "metadata": {},
   "outputs": [],
   "source": [
    "#Split data into training and validation\n",
    "\n",
    "#Contain values of the year 2012 only\n",
    "df_val = df_copy[df_copy.saleYear == 2012] \n",
    "#Contain values of other years\n",
    "df_train = df_copy[df_copy.saleYear != 2012]"
   ]
  },
  {
   "cell_type": "code",
   "execution_count": 23,
   "id": "630eaa73",
   "metadata": {},
   "outputs": [],
   "source": [
    "#Again split into X and y train and validation sets\n",
    "\n",
    "X_train, y_train = df_train.drop(\"SalePrice\", axis = 1), df_train.SalePrice\n",
    "X_valid, y_valid = df_val.drop(\"SalePrice\", axis = 1), df_val.SalePrice"
   ]
  },
  {
   "cell_type": "markdown",
   "id": "f7ac257f",
   "metadata": {},
   "source": [
    "**Building an evaluation function**"
   ]
  },
  {
   "cell_type": "code",
   "execution_count": 28,
   "id": "27e5f053",
   "metadata": {},
   "outputs": [],
   "source": [
    "#Building an evaluation func. based on root-mean-squared-log-error\n",
    "from sklearn.metrics import mean_squared_log_error, mean_absolute_error, r2_score\n",
    "\n",
    "def rmsle(y_test, y_preds):\n",
    "    \"\"\"\n",
    "    Calculates root-mean-squared-log-error between predictions \n",
    "    and true labels\n",
    "    \"\"\"\n",
    "    return np.sqrt(mean_squared_log_error(y_test, y_preds))\n",
    "\n",
    "#Create function to evaluate model on a few different levels\n",
    "def show_scores(model):\n",
    "    train_preds = model.predict(X_train)\n",
    "    val_preds = model.predict(X_valid)\n",
    "    scores = {\"Training MAE\":mean_absolute_error(y_train, train_preds),\n",
    "             \"Valid MAE\": mean_absolute_error(y_valid, val_preds),\n",
    "             \"Training RMSLE\":rmsle(y_train, train_preds),\n",
    "             \"Valid RMSLE\": rmsle(y_valid, val_preds),\n",
    "             \"Training R^2\": r2_score(y_train, train_preds),\n",
    "             \"Valid R^2\": r2_score(y_valid, val_preds)}\n",
    "    \n",
    "    return scores"
   ]
  },
  {
   "cell_type": "markdown",
   "id": "ab6b5ad1",
   "metadata": {},
   "source": [
    "#### Testing our model on a subset (to tune the hyperparameters)"
   ]
  },
  {
   "cell_type": "code",
   "execution_count": 25,
   "id": "3d2fb4e4",
   "metadata": {},
   "outputs": [],
   "source": [
    "#Change max_samples value\n",
    "model = RandomForestRegressor(n_jobs=-1,\n",
    "                             random_state=42,\n",
    "                             max_samples=10000)\n",
    "#Done in order to reduce the time needed to train the model\n",
    "#Earlier it took around 3 min. With max_samples = 10000 (<len(X_train)),\n",
    "#the time should reduce"
   ]
  },
  {
   "cell_type": "code",
   "execution_count": 26,
   "id": "b48af32d",
   "metadata": {},
   "outputs": [
    {
     "name": "stdout",
     "output_type": "stream",
     "text": [
      "CPU times: total: 1min 5s\n",
      "Wall time: 9.51 s\n"
     ]
    },
    {
     "data": {
      "text/plain": [
       "RandomForestRegressor(max_samples=10000, n_jobs=-1, random_state=42)"
      ]
     },
     "execution_count": 26,
     "metadata": {},
     "output_type": "execute_result"
    }
   ],
   "source": [
    "%%time\n",
    "\n",
    "#Trying the new model\n",
    "model.fit(X_train, y_train)"
   ]
  },
  {
   "cell_type": "code",
   "execution_count": 29,
   "id": "f5c34dca",
   "metadata": {},
   "outputs": [
    {
     "data": {
      "text/plain": [
       "{'Training MAE': 5561.2988092240585,\n",
       " 'Valid MAE': 7177.26365505919,\n",
       " 'Training RMSLE': 0.257745378256977,\n",
       " 'Valid RMSLE': 0.29362638671089003,\n",
       " 'Training R^2': 0.8606658995199189,\n",
       " 'Valid R^2': 0.8320374995090507}"
      ]
     },
     "execution_count": 29,
     "metadata": {},
     "output_type": "execute_result"
    }
   ],
   "source": [
    "show_scores(model)"
   ]
  },
  {
   "cell_type": "code",
   "execution_count": 30,
   "id": "00d444e5",
   "metadata": {},
   "outputs": [],
   "source": [
    "# NOTE: The 'Valid MAE' is slightly larger than the 'Training MAE' \n",
    "# which means that we are not 'overfitting the model'"
   ]
  },
  {
   "cell_type": "markdown",
   "id": "371e0206",
   "metadata": {},
   "source": [
    "## 6. Experimentation"
   ]
  },
  {
   "cell_type": "markdown",
   "id": "3774adf1",
   "metadata": {},
   "source": [
    "**Hyperparameter tuning with RandomizedSearchCV**"
   ]
  },
  {
   "cell_type": "code",
   "execution_count": 35,
   "id": "31f08956",
   "metadata": {},
   "outputs": [
    {
     "name": "stdout",
     "output_type": "stream",
     "text": [
      "Fitting 5 folds for each of 10 candidates, totalling 50 fits\n",
      "CPU times: total: 3min 41s\n",
      "Wall time: 3min 42s\n"
     ]
    },
    {
     "data": {
      "text/plain": [
       "RandomizedSearchCV(cv=5,\n",
       "                   estimator=RandomForestRegressor(n_jobs=-1, random_state=42),\n",
       "                   param_distributions={'max_depth': [None, 3, 5, 10],\n",
       "                                        'max_features': [0.5, 1, 'sqrt',\n",
       "                                                         'auto'],\n",
       "                                        'max_samples': [10000],\n",
       "                                        'min_samples_leaf': array([ 1,  3,  5,  7,  9, 11, 13, 15, 17, 19]),\n",
       "                                        'min_samples_split': array([ 2,  4,  6,  8, 10, 12, 14, 16, 18]),\n",
       "                                        'n_estimators': array([10, 20, 30, 40, 50, 60, 70, 80, 90])},\n",
       "                   verbose=True)"
      ]
     },
     "execution_count": 35,
     "metadata": {},
     "output_type": "execute_result"
    }
   ],
   "source": [
    "%%time\n",
    "\n",
    "from sklearn.model_selection import RandomizedSearchCV\n",
    "\n",
    "#Different hyperparameters for the model\n",
    "rf_grid = {\"n_estimators\": np.arange(10, 100, 10),\n",
    "           \"max_depth\": [None, 3, 5, 10],\n",
    "           \"min_samples_split\": np.arange(2, 20, 2),\n",
    "           \"min_samples_leaf\": np.arange(1, 20, 2),\n",
    "           \"max_features\": [0.5, 1, \"sqrt\", \"auto\"],\n",
    "           \"max_samples\": [10000]}\n",
    "\n",
    "#Instantiate the model\n",
    "rs_model = RandomizedSearchCV(RandomForestRegressor(n_jobs = -1,\n",
    "                                                   random_state = 42),\n",
    "                                                   param_distributions=rf_grid,\n",
    "                                                   n_iter=10,\n",
    "                                                   cv=5,\n",
    "                                                   verbose=True)\n",
    "\n",
    "#Fit the model\n",
    "rs_model.fit(X_train, y_train)"
   ]
  },
  {
   "cell_type": "code",
   "execution_count": 36,
   "id": "ab7b85d7",
   "metadata": {},
   "outputs": [
    {
     "data": {
      "text/plain": [
       "{'n_estimators': 50,\n",
       " 'min_samples_split': 14,\n",
       " 'min_samples_leaf': 7,\n",
       " 'max_samples': 10000,\n",
       " 'max_features': 'auto',\n",
       " 'max_depth': None}"
      ]
     },
     "execution_count": 36,
     "metadata": {},
     "output_type": "execute_result"
    }
   ],
   "source": [
    "#Find the best model hyperparameters\n",
    "rs_model.best_params_"
   ]
  },
  {
   "cell_type": "code",
   "execution_count": 37,
   "id": "6c654a6c",
   "metadata": {},
   "outputs": [
    {
     "data": {
      "text/plain": [
       "{'Training MAE': 5948.9702344420375,\n",
       " 'Valid MAE': 7538.217144432056,\n",
       " 'Training RMSLE': 0.2714579305766537,\n",
       " 'Valid RMSLE': 0.3027549846609489,\n",
       " 'Training R^2': 0.8384235696497322,\n",
       " 'Valid R^2': 0.8078998080165694}"
      ]
     },
     "execution_count": 37,
     "metadata": {},
     "output_type": "execute_result"
    }
   ],
   "source": [
    "# Evaluate the model\n",
    "show_scores(rs_model)"
   ]
  },
  {
   "cell_type": "markdown",
   "id": "081bd25b",
   "metadata": {},
   "source": [
    "**Train the model with better hyperparameters**"
   ]
  },
  {
   "cell_type": "code",
   "execution_count": 38,
   "id": "e068513e",
   "metadata": {},
   "outputs": [],
   "source": [
    "# In the previous example, we have set the 'n_iter' to only 10.\n",
    "# To get better results, use large values of n_iter like 100, 200, etc.\n",
    "# But that may take even hours to train and get the best results"
   ]
  },
  {
   "cell_type": "code",
   "execution_count": 39,
   "id": "1932285b",
   "metadata": {},
   "outputs": [
    {
     "name": "stdout",
     "output_type": "stream",
     "text": [
      "CPU times: total: 6min 40s\n",
      "Wall time: 40.1 s\n"
     ]
    },
    {
     "data": {
      "text/plain": [
       "RandomForestRegressor(max_features=0.5, min_samples_split=14, n_estimators=40,\n",
       "                      n_jobs=-1)"
      ]
     },
     "execution_count": 39,
     "metadata": {},
     "output_type": "execute_result"
    }
   ],
   "source": [
    "%%time\n",
    "\n",
    "#Instantiate the model\n",
    "best_model = RandomForestRegressor(n_estimators=40,\n",
    "                                  min_samples_leaf=1,\n",
    "                                  min_samples_split=14,\n",
    "                                  max_features=0.5,\n",
    "                                  n_jobs=-1,\n",
    "                                  max_samples=None,\n",
    "                                  random_state=42)\n",
    "\n",
    "#Fit the model (on the entire data, not a subset of 10000)\n",
    "best_model.fit(X_train, y_train)"
   ]
  },
  {
   "cell_type": "code",
   "execution_count": 40,
   "id": "ef4ac6e4",
   "metadata": {},
   "outputs": [
    {
     "data": {
      "text/plain": [
       "{'Training MAE': 2953.6472620828085,\n",
       " 'Valid MAE': 5967.8731667724105,\n",
       " 'Training RMSLE': 0.14453018464479883,\n",
       " 'Valid RMSLE': 0.24693891098459292,\n",
       " 'Training R^2': 0.9589450037007156,\n",
       " 'Valid R^2': 0.8814018840852685}"
      ]
     },
     "execution_count": 40,
     "metadata": {},
     "output_type": "execute_result"
    }
   ],
   "source": [
    "show_scores(best_model)"
   ]
  },
  {
   "cell_type": "code",
   "execution_count": 41,
   "id": "6d11f8cf",
   "metadata": {},
   "outputs": [],
   "source": [
    "#As we can see, the RMSLE Score has significantly reduced"
   ]
  },
  {
   "cell_type": "markdown",
   "id": "9bbf0a69",
   "metadata": {},
   "source": [
    "## Make predictions on the test dataset"
   ]
  },
  {
   "cell_type": "code",
   "execution_count": 42,
   "id": "71ec2bd1",
   "metadata": {},
   "outputs": [],
   "source": [
    "#Now that we have trained our model, we need to evaluate it on the\n",
    "# 'Test.csv' dataset to see how well it predicts"
   ]
  },
  {
   "cell_type": "code",
   "execution_count": 43,
   "id": "c050908d",
   "metadata": {},
   "outputs": [],
   "source": [
    "df_test = pd.read_csv(\"bluebook-for-bulldozers/Test.csv\",\n",
    "                     low_memory=False,\n",
    "                     parse_dates=[\"saledate\"])"
   ]
  },
  {
   "cell_type": "code",
   "execution_count": 44,
   "id": "2a8143de",
   "metadata": {},
   "outputs": [],
   "source": [
    "#Getting the test dataset in the same format as the training dataset\n",
    "def preprocess_data(df):\n",
    "    df[\"saleYear\"] = df.saledate.dt.year\n",
    "    df[\"saleMonth\"] = df.saledate.dt.month\n",
    "    df[\"saleDay\"] = df.saledate.dt.day\n",
    "    df[\"saleDayOfWeek\"] = df.saledate.dt.dayofweek\n",
    "    df[\"saleDayOfYear\"] = df.saledate.dt.dayofyear\n",
    "    \n",
    "    #Remove the saledate column\n",
    "    df.drop(\"saledate\", axis = 1, inplace=True)\n",
    "    \n",
    "    #Fill the numeric rows with median\n",
    "    for label, content in df.items():\n",
    "        if pd.api.types.is_numeric_dtype(content):\n",
    "            if pd.isnull(content).sum():\n",
    "                df[label+\"_is_missing\"] = pd.isnull(content)\n",
    "                df[label] = content.fillna(content.median())\n",
    "                \n",
    "        # Turn categorical variables into numbers\n",
    "        if not pd.api.types.is_numeric_dtype(content):\n",
    "            df[label+\"_is_missing\"] = pd.isnull(content)\n",
    "            # We add the +1 because pandas encodes missing categories as -1\n",
    "            df[label] = pd.Categorical(content).codes+1        \n",
    "    \n",
    "    return df"
   ]
  },
  {
   "cell_type": "code",
   "execution_count": 45,
   "id": "4491ab1e",
   "metadata": {},
   "outputs": [
    {
     "data": {
      "text/html": [
       "<div>\n",
       "<style scoped>\n",
       "    .dataframe tbody tr th:only-of-type {\n",
       "        vertical-align: middle;\n",
       "    }\n",
       "\n",
       "    .dataframe tbody tr th {\n",
       "        vertical-align: top;\n",
       "    }\n",
       "\n",
       "    .dataframe thead th {\n",
       "        text-align: right;\n",
       "    }\n",
       "</style>\n",
       "<table border=\"1\" class=\"dataframe\">\n",
       "  <thead>\n",
       "    <tr style=\"text-align: right;\">\n",
       "      <th></th>\n",
       "      <th>SalesID</th>\n",
       "      <th>MachineID</th>\n",
       "      <th>ModelID</th>\n",
       "      <th>datasource</th>\n",
       "      <th>auctioneerID</th>\n",
       "      <th>YearMade</th>\n",
       "      <th>MachineHoursCurrentMeter</th>\n",
       "      <th>UsageBand</th>\n",
       "      <th>fiModelDesc</th>\n",
       "      <th>fiBaseModel</th>\n",
       "      <th>...</th>\n",
       "      <th>Undercarriage_Pad_Width_is_missing</th>\n",
       "      <th>Stick_Length_is_missing</th>\n",
       "      <th>Thumb_is_missing</th>\n",
       "      <th>Pattern_Changer_is_missing</th>\n",
       "      <th>Grouser_Type_is_missing</th>\n",
       "      <th>Backhoe_Mounting_is_missing</th>\n",
       "      <th>Blade_Type_is_missing</th>\n",
       "      <th>Travel_Controls_is_missing</th>\n",
       "      <th>Differential_Type_is_missing</th>\n",
       "      <th>Steering_Controls_is_missing</th>\n",
       "    </tr>\n",
       "  </thead>\n",
       "  <tbody>\n",
       "    <tr>\n",
       "      <th>0</th>\n",
       "      <td>1227829</td>\n",
       "      <td>1006309</td>\n",
       "      <td>3168</td>\n",
       "      <td>121</td>\n",
       "      <td>3</td>\n",
       "      <td>1999</td>\n",
       "      <td>3688.0</td>\n",
       "      <td>2</td>\n",
       "      <td>499</td>\n",
       "      <td>180</td>\n",
       "      <td>...</td>\n",
       "      <td>True</td>\n",
       "      <td>True</td>\n",
       "      <td>True</td>\n",
       "      <td>True</td>\n",
       "      <td>True</td>\n",
       "      <td>True</td>\n",
       "      <td>True</td>\n",
       "      <td>True</td>\n",
       "      <td>True</td>\n",
       "      <td>True</td>\n",
       "    </tr>\n",
       "    <tr>\n",
       "      <th>1</th>\n",
       "      <td>1227844</td>\n",
       "      <td>1022817</td>\n",
       "      <td>7271</td>\n",
       "      <td>121</td>\n",
       "      <td>3</td>\n",
       "      <td>1000</td>\n",
       "      <td>28555.0</td>\n",
       "      <td>1</td>\n",
       "      <td>831</td>\n",
       "      <td>292</td>\n",
       "      <td>...</td>\n",
       "      <td>True</td>\n",
       "      <td>True</td>\n",
       "      <td>True</td>\n",
       "      <td>True</td>\n",
       "      <td>True</td>\n",
       "      <td>True</td>\n",
       "      <td>True</td>\n",
       "      <td>True</td>\n",
       "      <td>False</td>\n",
       "      <td>False</td>\n",
       "    </tr>\n",
       "    <tr>\n",
       "      <th>2</th>\n",
       "      <td>1227847</td>\n",
       "      <td>1031560</td>\n",
       "      <td>22805</td>\n",
       "      <td>121</td>\n",
       "      <td>3</td>\n",
       "      <td>2004</td>\n",
       "      <td>6038.0</td>\n",
       "      <td>3</td>\n",
       "      <td>1177</td>\n",
       "      <td>404</td>\n",
       "      <td>...</td>\n",
       "      <td>False</td>\n",
       "      <td>False</td>\n",
       "      <td>False</td>\n",
       "      <td>False</td>\n",
       "      <td>False</td>\n",
       "      <td>True</td>\n",
       "      <td>True</td>\n",
       "      <td>True</td>\n",
       "      <td>True</td>\n",
       "      <td>True</td>\n",
       "    </tr>\n",
       "    <tr>\n",
       "      <th>3</th>\n",
       "      <td>1227848</td>\n",
       "      <td>56204</td>\n",
       "      <td>1269</td>\n",
       "      <td>121</td>\n",
       "      <td>3</td>\n",
       "      <td>2006</td>\n",
       "      <td>8940.0</td>\n",
       "      <td>1</td>\n",
       "      <td>287</td>\n",
       "      <td>113</td>\n",
       "      <td>...</td>\n",
       "      <td>False</td>\n",
       "      <td>False</td>\n",
       "      <td>False</td>\n",
       "      <td>False</td>\n",
       "      <td>False</td>\n",
       "      <td>True</td>\n",
       "      <td>True</td>\n",
       "      <td>True</td>\n",
       "      <td>True</td>\n",
       "      <td>True</td>\n",
       "    </tr>\n",
       "    <tr>\n",
       "      <th>4</th>\n",
       "      <td>1227863</td>\n",
       "      <td>1053887</td>\n",
       "      <td>22312</td>\n",
       "      <td>121</td>\n",
       "      <td>3</td>\n",
       "      <td>2005</td>\n",
       "      <td>2286.0</td>\n",
       "      <td>2</td>\n",
       "      <td>566</td>\n",
       "      <td>196</td>\n",
       "      <td>...</td>\n",
       "      <td>True</td>\n",
       "      <td>True</td>\n",
       "      <td>True</td>\n",
       "      <td>True</td>\n",
       "      <td>True</td>\n",
       "      <td>False</td>\n",
       "      <td>False</td>\n",
       "      <td>False</td>\n",
       "      <td>True</td>\n",
       "      <td>True</td>\n",
       "    </tr>\n",
       "  </tbody>\n",
       "</table>\n",
       "<p>5 rows × 101 columns</p>\n",
       "</div>"
      ],
      "text/plain": [
       "   SalesID  MachineID  ModelID  datasource  auctioneerID  YearMade  \\\n",
       "0  1227829    1006309     3168         121             3      1999   \n",
       "1  1227844    1022817     7271         121             3      1000   \n",
       "2  1227847    1031560    22805         121             3      2004   \n",
       "3  1227848      56204     1269         121             3      2006   \n",
       "4  1227863    1053887    22312         121             3      2005   \n",
       "\n",
       "   MachineHoursCurrentMeter  UsageBand  fiModelDesc  fiBaseModel  ...  \\\n",
       "0                    3688.0          2          499          180  ...   \n",
       "1                   28555.0          1          831          292  ...   \n",
       "2                    6038.0          3         1177          404  ...   \n",
       "3                    8940.0          1          287          113  ...   \n",
       "4                    2286.0          2          566          196  ...   \n",
       "\n",
       "   Undercarriage_Pad_Width_is_missing  Stick_Length_is_missing  \\\n",
       "0                                True                     True   \n",
       "1                                True                     True   \n",
       "2                               False                    False   \n",
       "3                               False                    False   \n",
       "4                                True                     True   \n",
       "\n",
       "   Thumb_is_missing  Pattern_Changer_is_missing  Grouser_Type_is_missing  \\\n",
       "0              True                        True                     True   \n",
       "1              True                        True                     True   \n",
       "2             False                       False                    False   \n",
       "3             False                       False                    False   \n",
       "4              True                        True                     True   \n",
       "\n",
       "   Backhoe_Mounting_is_missing  Blade_Type_is_missing  \\\n",
       "0                         True                   True   \n",
       "1                         True                   True   \n",
       "2                         True                   True   \n",
       "3                         True                   True   \n",
       "4                        False                  False   \n",
       "\n",
       "   Travel_Controls_is_missing  Differential_Type_is_missing  \\\n",
       "0                        True                          True   \n",
       "1                        True                         False   \n",
       "2                        True                          True   \n",
       "3                        True                          True   \n",
       "4                       False                          True   \n",
       "\n",
       "   Steering_Controls_is_missing  \n",
       "0                          True  \n",
       "1                         False  \n",
       "2                          True  \n",
       "3                          True  \n",
       "4                          True  \n",
       "\n",
       "[5 rows x 101 columns]"
      ]
     },
     "execution_count": 45,
     "metadata": {},
     "output_type": "execute_result"
    }
   ],
   "source": [
    "df_test = preprocess_data(df_test)\n",
    "df_test.head()"
   ]
  },
  {
   "cell_type": "code",
   "execution_count": 46,
   "id": "ef9b7168",
   "metadata": {},
   "outputs": [],
   "source": [
    "#We can see that the X_train model has 102 col. but the updated df_test\n",
    "#Has 101 columns. We need to fix this in order to run the model"
   ]
  },
  {
   "cell_type": "code",
   "execution_count": 47,
   "id": "720e98d8",
   "metadata": {},
   "outputs": [
    {
     "data": {
      "text/plain": [
       "{'auctioneerID_is_missing'}"
      ]
     },
     "execution_count": 47,
     "metadata": {},
     "output_type": "execute_result"
    }
   ],
   "source": [
    "set(X_train.columns) - set(df_test.columns)"
   ]
  },
  {
   "cell_type": "code",
   "execution_count": 48,
   "id": "5cb521b3",
   "metadata": {},
   "outputs": [],
   "source": [
    "#We can see that the auctioneer id is missing, as\n",
    "#the bulldozers are still not sold"
   ]
  },
  {
   "cell_type": "code",
   "execution_count": 49,
   "id": "15f376ea",
   "metadata": {},
   "outputs": [
    {
     "data": {
      "text/html": [
       "<div>\n",
       "<style scoped>\n",
       "    .dataframe tbody tr th:only-of-type {\n",
       "        vertical-align: middle;\n",
       "    }\n",
       "\n",
       "    .dataframe tbody tr th {\n",
       "        vertical-align: top;\n",
       "    }\n",
       "\n",
       "    .dataframe thead th {\n",
       "        text-align: right;\n",
       "    }\n",
       "</style>\n",
       "<table border=\"1\" class=\"dataframe\">\n",
       "  <thead>\n",
       "    <tr style=\"text-align: right;\">\n",
       "      <th></th>\n",
       "      <th>SalesID</th>\n",
       "      <th>MachineID</th>\n",
       "      <th>ModelID</th>\n",
       "      <th>datasource</th>\n",
       "      <th>auctioneerID</th>\n",
       "      <th>YearMade</th>\n",
       "      <th>MachineHoursCurrentMeter</th>\n",
       "      <th>UsageBand</th>\n",
       "      <th>fiModelDesc</th>\n",
       "      <th>fiBaseModel</th>\n",
       "      <th>...</th>\n",
       "      <th>Stick_Length_is_missing</th>\n",
       "      <th>Thumb_is_missing</th>\n",
       "      <th>Pattern_Changer_is_missing</th>\n",
       "      <th>Grouser_Type_is_missing</th>\n",
       "      <th>Backhoe_Mounting_is_missing</th>\n",
       "      <th>Blade_Type_is_missing</th>\n",
       "      <th>Travel_Controls_is_missing</th>\n",
       "      <th>Differential_Type_is_missing</th>\n",
       "      <th>Steering_Controls_is_missing</th>\n",
       "      <th>auctioneerID_is_missing</th>\n",
       "    </tr>\n",
       "  </thead>\n",
       "  <tbody>\n",
       "    <tr>\n",
       "      <th>0</th>\n",
       "      <td>1227829</td>\n",
       "      <td>1006309</td>\n",
       "      <td>3168</td>\n",
       "      <td>121</td>\n",
       "      <td>3</td>\n",
       "      <td>1999</td>\n",
       "      <td>3688.0</td>\n",
       "      <td>2</td>\n",
       "      <td>499</td>\n",
       "      <td>180</td>\n",
       "      <td>...</td>\n",
       "      <td>True</td>\n",
       "      <td>True</td>\n",
       "      <td>True</td>\n",
       "      <td>True</td>\n",
       "      <td>True</td>\n",
       "      <td>True</td>\n",
       "      <td>True</td>\n",
       "      <td>True</td>\n",
       "      <td>True</td>\n",
       "      <td>False</td>\n",
       "    </tr>\n",
       "    <tr>\n",
       "      <th>1</th>\n",
       "      <td>1227844</td>\n",
       "      <td>1022817</td>\n",
       "      <td>7271</td>\n",
       "      <td>121</td>\n",
       "      <td>3</td>\n",
       "      <td>1000</td>\n",
       "      <td>28555.0</td>\n",
       "      <td>1</td>\n",
       "      <td>831</td>\n",
       "      <td>292</td>\n",
       "      <td>...</td>\n",
       "      <td>True</td>\n",
       "      <td>True</td>\n",
       "      <td>True</td>\n",
       "      <td>True</td>\n",
       "      <td>True</td>\n",
       "      <td>True</td>\n",
       "      <td>True</td>\n",
       "      <td>False</td>\n",
       "      <td>False</td>\n",
       "      <td>False</td>\n",
       "    </tr>\n",
       "    <tr>\n",
       "      <th>2</th>\n",
       "      <td>1227847</td>\n",
       "      <td>1031560</td>\n",
       "      <td>22805</td>\n",
       "      <td>121</td>\n",
       "      <td>3</td>\n",
       "      <td>2004</td>\n",
       "      <td>6038.0</td>\n",
       "      <td>3</td>\n",
       "      <td>1177</td>\n",
       "      <td>404</td>\n",
       "      <td>...</td>\n",
       "      <td>False</td>\n",
       "      <td>False</td>\n",
       "      <td>False</td>\n",
       "      <td>False</td>\n",
       "      <td>True</td>\n",
       "      <td>True</td>\n",
       "      <td>True</td>\n",
       "      <td>True</td>\n",
       "      <td>True</td>\n",
       "      <td>False</td>\n",
       "    </tr>\n",
       "    <tr>\n",
       "      <th>3</th>\n",
       "      <td>1227848</td>\n",
       "      <td>56204</td>\n",
       "      <td>1269</td>\n",
       "      <td>121</td>\n",
       "      <td>3</td>\n",
       "      <td>2006</td>\n",
       "      <td>8940.0</td>\n",
       "      <td>1</td>\n",
       "      <td>287</td>\n",
       "      <td>113</td>\n",
       "      <td>...</td>\n",
       "      <td>False</td>\n",
       "      <td>False</td>\n",
       "      <td>False</td>\n",
       "      <td>False</td>\n",
       "      <td>True</td>\n",
       "      <td>True</td>\n",
       "      <td>True</td>\n",
       "      <td>True</td>\n",
       "      <td>True</td>\n",
       "      <td>False</td>\n",
       "    </tr>\n",
       "    <tr>\n",
       "      <th>4</th>\n",
       "      <td>1227863</td>\n",
       "      <td>1053887</td>\n",
       "      <td>22312</td>\n",
       "      <td>121</td>\n",
       "      <td>3</td>\n",
       "      <td>2005</td>\n",
       "      <td>2286.0</td>\n",
       "      <td>2</td>\n",
       "      <td>566</td>\n",
       "      <td>196</td>\n",
       "      <td>...</td>\n",
       "      <td>True</td>\n",
       "      <td>True</td>\n",
       "      <td>True</td>\n",
       "      <td>True</td>\n",
       "      <td>False</td>\n",
       "      <td>False</td>\n",
       "      <td>False</td>\n",
       "      <td>True</td>\n",
       "      <td>True</td>\n",
       "      <td>False</td>\n",
       "    </tr>\n",
       "  </tbody>\n",
       "</table>\n",
       "<p>5 rows × 102 columns</p>\n",
       "</div>"
      ],
      "text/plain": [
       "   SalesID  MachineID  ModelID  datasource  auctioneerID  YearMade  \\\n",
       "0  1227829    1006309     3168         121             3      1999   \n",
       "1  1227844    1022817     7271         121             3      1000   \n",
       "2  1227847    1031560    22805         121             3      2004   \n",
       "3  1227848      56204     1269         121             3      2006   \n",
       "4  1227863    1053887    22312         121             3      2005   \n",
       "\n",
       "   MachineHoursCurrentMeter  UsageBand  fiModelDesc  fiBaseModel  ...  \\\n",
       "0                    3688.0          2          499          180  ...   \n",
       "1                   28555.0          1          831          292  ...   \n",
       "2                    6038.0          3         1177          404  ...   \n",
       "3                    8940.0          1          287          113  ...   \n",
       "4                    2286.0          2          566          196  ...   \n",
       "\n",
       "   Stick_Length_is_missing  Thumb_is_missing  Pattern_Changer_is_missing  \\\n",
       "0                     True              True                        True   \n",
       "1                     True              True                        True   \n",
       "2                    False             False                       False   \n",
       "3                    False             False                       False   \n",
       "4                     True              True                        True   \n",
       "\n",
       "   Grouser_Type_is_missing  Backhoe_Mounting_is_missing  \\\n",
       "0                     True                         True   \n",
       "1                     True                         True   \n",
       "2                    False                         True   \n",
       "3                    False                         True   \n",
       "4                     True                        False   \n",
       "\n",
       "   Blade_Type_is_missing  Travel_Controls_is_missing  \\\n",
       "0                   True                        True   \n",
       "1                   True                        True   \n",
       "2                   True                        True   \n",
       "3                   True                        True   \n",
       "4                  False                       False   \n",
       "\n",
       "   Differential_Type_is_missing  Steering_Controls_is_missing  \\\n",
       "0                          True                          True   \n",
       "1                         False                         False   \n",
       "2                          True                          True   \n",
       "3                          True                          True   \n",
       "4                          True                          True   \n",
       "\n",
       "   auctioneerID_is_missing  \n",
       "0                    False  \n",
       "1                    False  \n",
       "2                    False  \n",
       "3                    False  \n",
       "4                    False  \n",
       "\n",
       "[5 rows x 102 columns]"
      ]
     },
     "execution_count": 49,
     "metadata": {},
     "output_type": "execute_result"
    }
   ],
   "source": [
    "df_test[\"auctioneerID_is_missing\"] = False\n",
    "df_test.head()"
   ]
  },
  {
   "cell_type": "code",
   "execution_count": 51,
   "id": "992f4925",
   "metadata": {},
   "outputs": [
    {
     "name": "stderr",
     "output_type": "stream",
     "text": [
      "D:\\VIT\\Courses\\ML\\Projects\\Bulldozer-price-prediction\\env\\lib\\site-packages\\sklearn\\base.py:493: FutureWarning: The feature names should match those that were passed during fit. Starting version 1.2, an error will be raised.\n",
      "Feature names must be in the same order as they were in fit.\n",
      "\n",
      "  warnings.warn(message, FutureWarning)\n"
     ]
    }
   ],
   "source": [
    "#Now that the no. of columns match, let's\n",
    "#Make predictions on the test dataset\n",
    "test_preds = best_model.predict(df_test)"
   ]
  },
  {
   "cell_type": "code",
   "execution_count": 52,
   "id": "b301e357",
   "metadata": {},
   "outputs": [
    {
     "data": {
      "text/html": [
       "<div>\n",
       "<style scoped>\n",
       "    .dataframe tbody tr th:only-of-type {\n",
       "        vertical-align: middle;\n",
       "    }\n",
       "\n",
       "    .dataframe tbody tr th {\n",
       "        vertical-align: top;\n",
       "    }\n",
       "\n",
       "    .dataframe thead th {\n",
       "        text-align: right;\n",
       "    }\n",
       "</style>\n",
       "<table border=\"1\" class=\"dataframe\">\n",
       "  <thead>\n",
       "    <tr style=\"text-align: right;\">\n",
       "      <th></th>\n",
       "      <th>SalesID</th>\n",
       "      <th>SalesPrice</th>\n",
       "    </tr>\n",
       "  </thead>\n",
       "  <tbody>\n",
       "    <tr>\n",
       "      <th>0</th>\n",
       "      <td>1227829</td>\n",
       "      <td>18562.204432</td>\n",
       "    </tr>\n",
       "    <tr>\n",
       "      <th>1</th>\n",
       "      <td>1227844</td>\n",
       "      <td>21124.113940</td>\n",
       "    </tr>\n",
       "    <tr>\n",
       "      <th>2</th>\n",
       "      <td>1227847</td>\n",
       "      <td>49237.814731</td>\n",
       "    </tr>\n",
       "    <tr>\n",
       "      <th>3</th>\n",
       "      <td>1227848</td>\n",
       "      <td>66106.574123</td>\n",
       "    </tr>\n",
       "    <tr>\n",
       "      <th>4</th>\n",
       "      <td>1227863</td>\n",
       "      <td>45585.227531</td>\n",
       "    </tr>\n",
       "    <tr>\n",
       "      <th>...</th>\n",
       "      <td>...</td>\n",
       "      <td>...</td>\n",
       "    </tr>\n",
       "    <tr>\n",
       "      <th>12452</th>\n",
       "      <td>6643171</td>\n",
       "      <td>48546.995934</td>\n",
       "    </tr>\n",
       "    <tr>\n",
       "      <th>12453</th>\n",
       "      <td>6643173</td>\n",
       "      <td>19032.541929</td>\n",
       "    </tr>\n",
       "    <tr>\n",
       "      <th>12454</th>\n",
       "      <td>6643184</td>\n",
       "      <td>15914.965747</td>\n",
       "    </tr>\n",
       "    <tr>\n",
       "      <th>12455</th>\n",
       "      <td>6643186</td>\n",
       "      <td>23910.082092</td>\n",
       "    </tr>\n",
       "    <tr>\n",
       "      <th>12456</th>\n",
       "      <td>6643196</td>\n",
       "      <td>35128.773980</td>\n",
       "    </tr>\n",
       "  </tbody>\n",
       "</table>\n",
       "<p>12457 rows × 2 columns</p>\n",
       "</div>"
      ],
      "text/plain": [
       "       SalesID    SalesPrice\n",
       "0      1227829  18562.204432\n",
       "1      1227844  21124.113940\n",
       "2      1227847  49237.814731\n",
       "3      1227848  66106.574123\n",
       "4      1227863  45585.227531\n",
       "...        ...           ...\n",
       "12452  6643171  48546.995934\n",
       "12453  6643173  19032.541929\n",
       "12454  6643184  15914.965747\n",
       "12455  6643186  23910.082092\n",
       "12456  6643196  35128.773980\n",
       "\n",
       "[12457 rows x 2 columns]"
      ]
     },
     "execution_count": 52,
     "metadata": {},
     "output_type": "execute_result"
    }
   ],
   "source": [
    "df_preds = pd.DataFrame()\n",
    "df_preds[\"SalesID\"] = df_test[\"SalesID\"]\n",
    "df_preds[\"SalesPrice\"] = test_preds\n",
    "\n",
    "df_preds"
   ]
  },
  {
   "cell_type": "code",
   "execution_count": 54,
   "id": "fb24e25f",
   "metadata": {},
   "outputs": [],
   "source": [
    "#Export the predicted data\n",
    "df_preds.to_csv(\"Test_predictions.csv\", index=False)"
   ]
  },
  {
   "cell_type": "markdown",
   "id": "89ad41b9",
   "metadata": {},
   "source": [
    "## 7. Feature Importance"
   ]
  },
  {
   "cell_type": "code",
   "execution_count": 55,
   "id": "9beb1f02",
   "metadata": {},
   "outputs": [],
   "source": [
    "#Finding the features that affected the prediction of prices (target) \n",
    "#the most"
   ]
  },
  {
   "cell_type": "code",
   "execution_count": 56,
   "id": "8123b343",
   "metadata": {},
   "outputs": [
    {
     "data": {
      "text/plain": [
       "array([3.26239858e-02, 1.55180807e-02, 4.64861350e-02, 1.75872294e-03,\n",
       "       3.37396989e-03, 1.89850364e-01, 3.02394987e-03, 1.03877322e-03,\n",
       "       4.15010278e-02, 3.55517752e-02, 7.53168714e-02, 4.96639945e-03,\n",
       "       2.05797187e-02, 1.37764550e-01, 4.66696397e-02, 6.03300951e-03,\n",
       "       6.05349276e-03, 6.02718060e-03, 2.06990086e-03, 7.84207059e-02,\n",
       "       8.54786205e-04, 4.57917670e-05, 1.08978314e-03, 1.99602158e-04,\n",
       "       9.43079511e-04, 5.05272459e-05, 4.57637872e-05, 1.33730198e-02,\n",
       "       3.31496238e-03, 2.14576001e-03, 3.70792115e-03, 3.73615956e-03,\n",
       "       5.30119457e-03, 1.56528405e-03, 2.35580400e-04, 7.87170995e-03,\n",
       "       7.97607925e-04, 1.48645386e-02, 1.11439152e-04, 2.08533534e-03,\n",
       "       9.89555822e-04, 9.48620356e-04, 3.15258301e-03, 5.53413899e-04,\n",
       "       9.68639712e-04, 4.21809878e-04, 2.37925598e-04, 3.61489421e-03,\n",
       "       7.20430049e-04, 3.64559797e-04, 1.15167735e-03, 7.48622256e-02,\n",
       "       3.80683106e-03, 5.68616560e-03, 2.92273523e-03, 9.82040213e-03,\n",
       "       2.47193469e-04, 1.59482279e-03, 3.38802713e-04, 0.00000000e+00,\n",
       "       0.00000000e+00, 2.78166080e-03, 1.53256946e-03, 1.39598062e-02,\n",
       "       1.86601681e-02, 0.00000000e+00, 0.00000000e+00, 0.00000000e+00,\n",
       "       0.00000000e+00, 2.19475094e-04, 5.28981790e-06, 3.91923017e-04,\n",
       "       1.43858520e-05, 2.17611517e-04, 4.03729224e-06, 1.07021337e-04,\n",
       "       3.14495729e-06, 1.99695346e-03, 2.41433336e-04, 1.00267559e-03,\n",
       "       1.87946653e-05, 8.49346551e-04, 7.89159921e-05, 9.10762676e-04,\n",
       "       3.26231990e-04, 4.11231090e-04, 1.04418518e-02, 1.17608989e-04,\n",
       "       9.15164867e-03, 3.86795463e-03, 1.51593610e-03, 4.65520684e-05,\n",
       "       6.85799303e-05, 3.46602021e-05, 4.44857278e-05, 4.85563793e-05,\n",
       "       1.55149846e-04, 6.21207389e-04, 1.61542384e-04, 1.57513004e-04,\n",
       "       1.34009620e-04, 3.27916492e-04])"
      ]
     },
     "execution_count": 56,
     "metadata": {},
     "output_type": "execute_result"
    }
   ],
   "source": [
    "best_model.feature_importances_"
   ]
  },
  {
   "cell_type": "code",
   "execution_count": 59,
   "id": "0d8fbfc6",
   "metadata": {},
   "outputs": [],
   "source": [
    "#Function to plot feature importance\n",
    "def plot_features(columns, importances, n=20):\n",
    "    df = (pd.DataFrame({\"features\": columns,\n",
    "                        \"feature_importances\": importances})\n",
    "         .sort_values(\"feature_importances\", ascending=False)\n",
    "         .reset_index(drop=True))\n",
    "    \n",
    "    #Plot the 20 most important features of the dataframe\n",
    "    fig, ax = plt.subplots()\n",
    "    ax.barh(df[\"features\"][:n], df[\"feature_importances\"][:20])\n",
    "    ax.set_ylabel(\"Featues\")\n",
    "    ax.set_xlabel(\"Feature importance\")\n",
    "    ax.invert_yaxis()"
   ]
  },
  {
   "cell_type": "code",
   "execution_count": 60,
   "id": "b48f5063",
   "metadata": {},
   "outputs": [
    {
     "data": {
      "image/png": "[encoded data removed]",
      "text/plain": [
       "<Figure size 432x288 with 1 Axes>"
      ]
     },
     "metadata": {
      "needs_background": "light"
     },
     "output_type": "display_data"
    }
   ],
   "source": [
    "plot_features(X_train.columns, best_model.feature_importances_);"
   ]
  },
  {
   "cell_type": "code",
   "execution_count": null,
   "id": "2baeb7dc",
   "metadata": {},
   "outputs": [],
   "source": []
  }
 ],
 "metadata": {
  "kernelspec": {
   "display_name": "Python 3 (ipykernel)",
   "language": "python",
   "name": "python3"
  },
  "language_info": {
   "codemirror_mode": {
    "name": "ipython",
    "version": 3
   },
   "file_extension": ".py",
   "mimetype": "text/x-python",
   "name": "python",
   "nbconvert_exporter": "python",
   "pygments_lexer": "ipython3",
   "version": "3.9.12"
  }
 },
 "nbformat": 4,
 "nbformat_minor": 5
}
